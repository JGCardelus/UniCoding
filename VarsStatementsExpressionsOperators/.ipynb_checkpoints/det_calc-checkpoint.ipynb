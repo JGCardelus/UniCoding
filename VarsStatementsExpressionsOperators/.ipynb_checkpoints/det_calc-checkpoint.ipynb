{
 "cells": [
  {
   "cell_type": "markdown",
   "metadata": {},
   "source": [
    "<h1>Determinants calculator</h1>\n",
    "<p>It calculates determinants using recurssion</p>"
   ]
  },
  {
   "cell_type": "code",
   "execution_count": 9,
   "metadata": {},
   "outputs": [],
   "source": [
    "import math\n",
    "\n",
    "#X = [[1, 2, 3, 20], [4, 5, 6, -5], [2, 3, 1, 27], [1, 8, 22, 22]]\n",
    "\n",
    "def calculate_det(n, X):\n",
    "    if n > 2:\n",
    "        #Calculate determinants using minors\n",
    "        i = 0 #To get minors, line 0 will always be selected\n",
    "        det = 0\n",
    "        for j in range(n):\n",
    "            a = X[i][j]\n",
    "            minor = get_minor(n, j, X)\n",
    "            det_minor = calculate_det((n - 1), minor)\n",
    "            det += math.pow(-1, (1 + j + 1)) * a * det_minor #(-1)^ij * X[i][j] * det(minor(X[i][j]))\n",
    "        return det            \n",
    "    else:\n",
    "        #Matrix is of order 2, calculate det and return\n",
    "        det = X[0][0]*X[1][1] - X[0][1]*X[1][0]\n",
    "        return det\n",
    "    \n",
    "def get_minor(n, j, X):\n",
    "    X_minor = []\n",
    "    for k in range(1, n): #line\n",
    "        new_line = []\n",
    "        for l in range(n): #col\n",
    "            if j != l: #If column is not equal to j\n",
    "                new_line.append(X[k][l]) #Add elemnt to minor matrix\n",
    "        \n",
    "        X_minor.append(new_line)\n",
    "        \n",
    "    return X_minor"
   ]
  },
  {
   "cell_type": "code",
   "execution_count": 7,
   "metadata": {},
   "outputs": [
    {
     "name": "stdout",
     "output_type": "stream",
     "text": [
      "¿Cuál es el orden de la matriz?: 3\n",
      " ## Element (1, 1): -7\n",
      " ## Element (1, 2): 2\n",
      " ## Element (1, 3): 3\n",
      " ## Element (2, 1): 54\n",
      " ## Element (2, 2): -81\n",
      " ## Element (2, 3): 99\n",
      " ## Element (3, 1): 21\n",
      " ## Element (3, 2): 54\n",
      " ## Element (3, 3): -33\n",
      "Matrix X:\n",
      "[[-7, 2, 3], [54, -81, 99], [21, 54, -33]]\n",
      "Calculating...\n",
      "det(X) = 40284.0\n"
     ]
    }
   ],
   "source": [
    "def add_params():\n",
    "    n = int(input(\"¿Cuál es el orden de la matriz?: \"))\n",
    "    X = []\n",
    "    \n",
    "    for i in range(n):\n",
    "        new_line = []\n",
    "        for j in range(n):\n",
    "            elem = int(input(\" ## Element (%s, %s): \" % (i +1, j + 1)))\n",
    "            new_line.append(elem)\n",
    "            \n",
    "        X.append(new_line)\n",
    "        \n",
    "    print(\"Matriz X:\")\n",
    "    print(X)\n",
    "    print(\"Calculating...\")\n",
    "    det = calculate_det(n, X)\n",
    "    print(\"det(X) = %s\" % (det))\n",
    "    \n",
    "add_params()"
   ]
  },
  {
   "cell_type": "code",
   "execution_count": null,
   "metadata": {},
   "outputs": [],
   "source": []
  }
 ],
 "metadata": {
  "kernelspec": {
   "display_name": "Python 3",
   "language": "python",
   "name": "python3"
  },
  "language_info": {
   "codemirror_mode": {
    "name": "ipython",
    "version": 3
   },
   "file_extension": ".py",
   "mimetype": "text/x-python",
   "name": "python",
   "nbconvert_exporter": "python",
   "pygments_lexer": "ipython3",
   "version": "3.7.4"
  }
 },
 "nbformat": 4,
 "nbformat_minor": 2
}
