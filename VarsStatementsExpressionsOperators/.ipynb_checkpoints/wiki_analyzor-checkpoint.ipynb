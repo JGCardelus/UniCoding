{
 "cells": [
  {
   "cell_type": "code",
   "execution_count": 4,
   "metadata": {},
   "outputs": [
    {
     "name": "stdout",
     "output_type": "stream",
     "text": [
      "Getting 'Football'\n",
      "Fetched content\n",
      "Analyzing...\n"
     ]
    },
    {
     "data": {
      "image/png": "[encoded data removed]",
      "text/plain": [
       "<Figure size 432x288 with 1 Axes>"
      ]
     },
     "metadata": {
      "needs_background": "light"
     },
     "output_type": "display_data"
    },
    {
     "data": {
      "image/png": "[encoded data removed]",
      "text/plain": [
       "<Figure size 432x288 with 1 Axes>"
      ]
     },
     "metadata": {
      "needs_background": "light"
     },
     "output_type": "display_data"
    }
   ],
   "source": [
    "import wikipedia as wp\n",
    "import matplotlib.pyplot as plt\n",
    "\n",
    "article_names = [\"Football\"] #, \"Albert Einstein\", \"Profieciency\", \"Physics\", \"Restaurant\"]\n",
    "letter_dict = {}\n",
    "word_dict = {}\n",
    "\n",
    "len_letters = 0\n",
    "len_words = 0\n",
    "\n",
    "def analyze_articles():\n",
    "    global article_names\n",
    "    global letter_dict\n",
    "    global word_dict\n",
    "    global len_letters\n",
    "    global len_words\n",
    "    \n",
    "    for article_name in article_names:\n",
    "        print(\"Getting '%s'\" % (article_name))\n",
    "        article = wp.page(article_name)\n",
    "        content = article.content\n",
    "        print(\"Fetched content\")\n",
    "        print(\"Analyzing...\")\n",
    "        \n",
    "        words = content.split(' ')\n",
    "        len_words = len(words)\n",
    "        for word in words:\n",
    "            if word not in word_dict.keys():\n",
    "                word_dict[word] = 1\n",
    "            else:\n",
    "                n = word_dict[word]\n",
    "                n += 1\n",
    "                word_dict[word] = n\n",
    "                \n",
    "            for letter in word:\n",
    "                len_letters += len(word)\n",
    "                \n",
    "                if letter not in letter_dict.keys():\n",
    "                    letter_dict[letter] = 1\n",
    "                else:\n",
    "                    m = letter_dict[letter]\n",
    "                    m += 1\n",
    "                    letter_dict[letter] = m\n",
    "                    \n",
    "    create_graph()\n",
    "        \n",
    "def create_graph():\n",
    "    global letter_dict\n",
    "    global word_dict\n",
    "    global len_letters\n",
    "    global len_words\n",
    "    \n",
    "    for word in word_dict.keys():\n",
    "        count = word_dict[word]\n",
    "        plt.scatter(len_words, count, label=word)\n",
    "        \n",
    "    plt.show()\n",
    "    \n",
    "    for letter in letter_dict.keys():\n",
    "        count = letter_dict[letter]\n",
    "        plt.scatter(0, count // 1000)\n",
    "        plt.text(0, count // 1000, letter)\n",
    "        \n",
    "    plt.show()\n",
    "    \n",
    "analyze_articles()"
   ]
  },
  {
   "cell_type": "code",
   "execution_count": null,
   "metadata": {},
   "outputs": [],
   "source": []
  }
 ],
 "metadata": {
  "kernelspec": {
   "display_name": "Python 3",
   "language": "python",
   "name": "python3"
  },
  "language_info": {
   "codemirror_mode": {
    "name": "ipython",
    "version": 3
   },
   "file_extension": ".py",
   "mimetype": "text/x-python",
   "name": "python",
   "nbconvert_exporter": "python",
   "pygments_lexer": "ipython3",
   "version": "3.7.4"
  }
 },
 "nbformat": 4,
 "nbformat_minor": 2
}
