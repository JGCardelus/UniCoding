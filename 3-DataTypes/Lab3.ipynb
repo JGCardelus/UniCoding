{
 "cells": [
  {
   "cell_type": "markdown",
   "metadata": {},
   "source": [
    "# Lab3: Data Types and Data Structures\n",
    "### Student: Jorge González\n",
    "### Group: 1º B\n",
    "### Date: 29/09/2019\n"
   ]
  },
  {
   "cell_type": "markdown",
   "metadata": {},
   "source": [
    "## Vowels and consonants classifier\n",
    "In this cell the user will enter a sentence which will be then divided into vowels and consonants."
   ]
  },
  {
   "cell_type": "code",
   "execution_count": 1,
   "metadata": {},
   "outputs": [
    {
     "name": "stdout",
     "output_type": "stream",
     "text": [
      "Enter a sentencePython rules!\n",
      "{'vowels': ['o', 'u', 'e'], 'consonants': ['p', 'y', 't', 'h', 'n', ' ', 'r', 'l', 's', '!']}\n"
     ]
    }
   ],
   "source": [
    "vowels = \"aeiou\"\n",
    "sentence = input(\"Enter a sentence\")\n",
    "\n",
    "sentence_dict = {\"vowels\": [], \"consonants\": []}\n",
    "\n",
    "for letter in sentence:\n",
    "    letter = letter.lower()\n",
    "    if letter in vowels:\n",
    "        sentence_dict[\"vowels\"].append(letter)\n",
    "    else:\n",
    "        sentence_dict[\"consonants\"].append(letter)\n",
    "        \n",
    "print(sentence_dict)"
   ]
  },
  {
   "cell_type": "markdown",
   "metadata": {},
   "source": [
    "## Matrix multiplication\n",
    "We will multiplicate matricees A and B and output the result"
   ]
  },
  {
   "cell_type": "code",
   "execution_count": 2,
   "metadata": {},
   "outputs": [
    {
     "name": "stdout",
     "output_type": "stream",
     "text": [
      "Operation correct\n",
      "[[12, 11, 4], [23, 19, 10], [40, 40, 8]]\n"
     ]
    }
   ],
   "source": [
    "import numpy as np\n",
    "\n",
    "A = [[1,2,1],[3,3,4],[0,8,0]]\n",
    "B = [[0,0,1],[5,5,1],[2,1,1]]\n",
    "\n",
    "# Transposed B list\n",
    "B_t = list(zip(*B))\n",
    "\n",
    "C = []\n",
    "\n",
    "for i in range(len(A)):\n",
    "    c_row = []\n",
    "    for j in range(len(A)):\n",
    "        c_ij = 0\n",
    "        for k in range(len(B)):\n",
    "            c_ij += A[i][k] * B[k][j]\n",
    "        c_row.append(c_ij)\n",
    "    \n",
    "    C.append(c_row)\n",
    "    \n",
    "if np.dot(A, B).all() == np.array(C).all():\n",
    "    print(\"Operation correct\")\n",
    "    print(C)"
   ]
  },
  {
   "cell_type": "markdown",
   "metadata": {},
   "source": [
    "## Hands on lists methods\n",
    "Operations using arrays"
   ]
  },
  {
   "cell_type": "code",
   "execution_count": 3,
   "metadata": {},
   "outputs": [
    {
     "name": "stdout",
     "output_type": "stream",
     "text": [
      "[1, 2, 3] ['a', 'b', 'c', 'b', 'hello']\n",
      "[1, 2, 3, 4] ['a', 'b', 'c', 'b', 'hello', 'bye', 'pythonrules', 'whatever']\n",
      "[4, 3, 2, 1] ['whatever', 'pythonrules', 'bye', 'hello', 'b', 'c', 'b', 'a']\n",
      "[1, 2, 3, 4] ['a', 'b', 'b', 'bye', 'c', 'hello', 'pythonrules', 'whatever']\n",
      "[0, 1, 2, 3, 4] ['a', 'b', 'b', 'bye', 'c', 'hello', 'pythonrules']\n",
      "[0, 1, 2, 3] Ocurrences of 'pythonrules': 1 Position of 0 in list ints: 0\n"
     ]
    }
   ],
   "source": [
    "somelist = [1,2,3,\"a\", \"b\", \"c\",\"b\", \"hello\"]\n",
    "ints = somelist[0:3]\n",
    "strs = somelist[3:]\n",
    "cocktail = somelist[2:5]\n",
    "\n",
    "print(ints, strs)\n",
    "\n",
    "ints.append(4)\n",
    "strs.extend([\"bye\", \"pythonrules\", \"whatever\"])\n",
    "\n",
    "print(ints, strs)\n",
    "\n",
    "ints.reverse()\n",
    "strs.reverse()\n",
    "\n",
    "print(ints, strs)\n",
    "    \n",
    "ints.sort()\n",
    "strs.sort()\n",
    "\n",
    "print(ints, strs)\n",
    "\n",
    "ints.insert(0, 0)\n",
    "strs.remove(\"whatever\")\n",
    "\n",
    "print(ints, strs)\n",
    "\n",
    "ints.pop()\n",
    "a = strs.count(\"pythonrules\")\n",
    "b = ints.index(0)\n",
    "\n",
    "print(ints, \"Ocurrences of 'pythonrules': \" + str(a), \"Position of 0 in list ints: \" + str(b))"
   ]
  },
  {
   "cell_type": "markdown",
   "metadata": {},
   "source": [
    "## Saving student grades with dictionaries"
   ]
  },
  {
   "cell_type": "code",
   "execution_count": 4,
   "metadata": {},
   "outputs": [
    {
     "name": "stdout",
     "output_type": "stream",
     "text": [
      "####### STUDENTS REPORTS ########\n",
      "Student:\n",
      "  Name: Pepito\n",
      "  Id: 9123123\n",
      "  Avg Grades: 9.833333333333334\n",
      "Student:\n",
      "  Name: Jaimito\n",
      "  Id: 1231923\n",
      "  Avg Grades: 10.166666666666666\n",
      "Student:\n",
      "  Name: Mafalda\n",
      "  Id: 123412\n",
      "  Avg Grades: 12.166666666666666\n",
      "######## END ##########\n",
      "School average = 10.722222222222221\n",
      "They are all gifted\n"
     ]
    }
   ],
   "source": [
    "student_a = {\"name\": \"Pepito\", \"id\": 9123123, \"grades\": [8.0, 9.0, 10.0, 10.0, 10.0, 12.0]}\n",
    "student_b = {\"name\": \"Jaimito\", \"id\": 1231923, \"grades\": [13.0, 8.0, 9.0, 10.0, 9.0, 12.0]}\n",
    "student_c = {\"name\": \"Mafalda\", \"id\": 123412, \"grades\": [13.0, 14.0, 15.0, 9.0, 10.0, 12.0]}\n",
    "\n",
    "student_data = {}\n",
    "\n",
    "students = [student_a, student_b, student_c]\n",
    "\n",
    "for i, student in enumerate(students):\n",
    "    name = \"std-\" + str((i + 1))\n",
    "    student_data[name] = student\n",
    "    \n",
    "print(\"####### STUDENTS REPORTS ########\")\n",
    "avg_grades = []\n",
    "for student in student_data.values():\n",
    "    print(\"Student:\")\n",
    "    print(\"  Name: %s\" % (student[\"name\"]))\n",
    "    print(\"  Id: %s\" % (student[\"id\"]))\n",
    "    avg_grade = np.average(student[\"grades\"])\n",
    "    avg_grades.append(avg_grade)\n",
    "    print(\"  Avg Grades: %s\" % (avg_grade))\n",
    "\n",
    "print(\"######## END ##########\")\n",
    "school_avg = np.average(avg_grades)\n",
    "print(\"School average = %s\" % (school_avg))\n",
    "\n",
    "if school_avg > 10:\n",
    "    print(\"They are all gifted\")\n"
   ]
  },
  {
   "cell_type": "markdown",
   "metadata": {},
   "source": [
    "## Counting letter using a dict"
   ]
  },
  {
   "cell_type": "code",
   "execution_count": 5,
   "metadata": {},
   "outputs": [
    {
     "name": "stdout",
     "output_type": "stream",
     "text": [
      "{'s': 6, 't': 9, 'a': 9, 'r': 7, ' ': 15, 'w': 2, 'i': 2, 'y': 2, 'b': 2, 'e': 5, 'h': 3, 'n': 4, 'k': 1, 'd': 2, 'm': 1, 'l': 2, 'o': 3, 'f': 1, 'g': 1}\n"
     ]
    }
   ],
   "source": [
    "sentence = \"Start Wars is way better than Star Trek and maybe also than Lord of the Rings\"\n",
    "\n",
    "letter_counter = {}\n",
    "                   \n",
    "for letter in sentence:\n",
    "    letter = letter.lower()\n",
    "    val = letter_counter.get(letter)\n",
    "    if val == None:\n",
    "        letter_counter[letter] = 1\n",
    "    else:\n",
    "        letter_counter[letter] = val + 1\n",
    "        \n",
    "print(letter_counter)\n",
    "        "
   ]
  },
  {
   "cell_type": "code",
   "execution_count": null,
   "metadata": {},
   "outputs": [],
   "source": []
  }
 ],
 "metadata": {
  "kernelspec": {
   "display_name": "Python 3",
   "language": "python",
   "name": "python3"
  },
  "language_info": {
   "codemirror_mode": {
    "name": "ipython",
    "version": 3
   },
   "file_extension": ".py",
   "mimetype": "text/x-python",
   "name": "python",
   "nbconvert_exporter": "python",
   "pygments_lexer": "ipython3",
   "version": "3.7.4"
  }
 },
 "nbformat": 4,
 "nbformat_minor": 2
}
