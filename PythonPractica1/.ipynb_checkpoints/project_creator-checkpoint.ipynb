{
 "cells": [
  {
   "cell_type": "markdown",
   "metadata": {},
   "source": [
    "<h2>GitHub Project Creator</h2>\n",
    "<p>Este programa automatiza el proceso de crear repositorios Git y luego clonarlos en el ordenador para que haya una copia local y otra online.</p>\n",
    "\n",
    "<p><b>Nota: </b> la libería que usa para controlar el explorador se llama selenium, por defecto viene instalada en conda, pero si no, instalar</p>\n",
    "\n",
    "<h3>Celda 1 -- Parámetros </h3>\n",
    "<p>Esta celda contiene los parámetro que configuran como será creado el repositorio. <code>project_name</code> especifica el nombre del repositorio, <code>project_description</code> especifica la descripción del repositiorio (opcional, sino igualar a None), <code>project_dir</code> es la dirección donde se clonará el repositirio git, dentro de una carpeta de nombre <code>project_name</code> y finalmente <code>is_public</code> indica si el repositorio ha de tener visibilidad pública o privada</p>\n",
    "<br>\n",
    "<p>Para cambiar la cuenta en la que se introduce, modificar <code>email</code> y <code>password</code> por los de la nueva cuenta</p>"
   ]
  },
  {
   "cell_type": "code",
   "execution_count": 1,
   "metadata": {},
   "outputs": [],
   "source": [
    "import os\n",
    "\n",
    "project_name = 'TestProject'\n",
    "project_description = 'Project description'\n",
    "project_dir = os.getcwd()\n",
    "is_public = False\n",
    "\n",
    "email = \"c839398@urhen.com\"\n",
    "password = \"QsdRt34-56ds\""
   ]
  },
  {
   "cell_type": "markdown",
   "metadata": {},
   "source": [
    "<h3>Celda 2 -- Controlador web</h3>"
   ]
  },
  {
   "cell_type": "code",
   "execution_count": 2,
   "metadata": {},
   "outputs": [],
   "source": [
    "from selenium import webdriver\n",
    "from selenium.webdriver.common.keys import Keys\n",
    "\n",
    "from selenium.webdriver.common.by import By\n",
    "from selenium.webdriver.support.ui import WebDriverWait\n",
    "from selenium.webdriver.support import expected_conditions as EC\n",
    "\n",
    "chromedriver_path = 'ChromeDriver\\\\chromedriver.exe'\n",
    "\n",
    "def log_in(driver):\n",
    "    global email\n",
    "    global password\n",
    "    \n",
    "    login_field = driver.find_element_by_id(\"login_field\")\n",
    "    login_field.send_keys(email)\n",
    "\n",
    "    password_field = driver.find_element_by_id(\"password\")\n",
    "    password_field.send_keys(password)\n",
    "\n",
    "    sign_in = driver.find_element_by_xpath(\"//input[@value='Sign in']\")\n",
    "    sign_in.click()\n",
    "\n",
    "def create_git(name_, description, is_public):\n",
    "    global chromedriver_path\n",
    "\n",
    "    driver = webdriver.Chrome(executable_path=chromedriver_path)\n",
    "    #driver = webdriver.Edge()\n",
    "    #Go to new project's page in gitHub\n",
    "    driver.get(\"https://www.github.com/new\")\n",
    "\n",
    "    login_field = driver.find_element_by_id(\"login_field\")\n",
    "    if login_field != None:\n",
    "        print(\"Logging into account\")\n",
    "        log_in(driver)\n",
    "\n",
    "    print(\"Filling project information\")\n",
    "    #Fill in information\n",
    "    git_name = driver.find_element_by_id(\"repository_name\")\n",
    "    git_name.send_keys(name_)\n",
    "\n",
    "    if description != None:\n",
    "        git_description = driver.find_element_by_id(\"repository_description\")\n",
    "        git_description.send_keys(description)\n",
    "\n",
    "    if not is_public:\n",
    "        git_private = driver.find_element_by_id(\"repository_visibility_private\")\n",
    "        git_private.click()\n",
    "\n",
    "    git_readme = driver.find_element_by_id(\"repository_auto_init\")\n",
    "    git_readme.click()\n",
    "\n",
    "    print(\"Creating project\")\n",
    "    git_create = driver.find_element_by_xpath(\"//button[@type='submit'][@class='btn btn-primary first-in-line'][@data-disable-with='Creating repository…']\")\n",
    "\n",
    "    wait = WebDriverWait(driver, 10)\n",
    "    wait.until(EC.element_to_be_clickable((By.XPATH, \"//button[@type='submit'][@class='btn btn-primary first-in-line'][@data-disable-with='Creating repository…']\")))\n",
    "\n",
    "    git_create.click()\n",
    "\n",
    "    wait.until(EC.title_contains('test-account-informatica/' + name_))\n",
    "\n",
    "    print(\"Fetching URL\")\n",
    "    #possible_urls = driver.find_elements_by_class_name(\"form-control input-monospace input-sm\")\n",
    "    https_git_path_element = driver.find_elements_by_xpath(\"//input[@type='text'][@class='form-control input-monospace input-sm']\")[0]\n",
    "    https_git_path = https_git_path_element.get_attribute(\"value\")\n",
    "    print(\"GitHub repo created\")\n",
    "    return https_git_path\n"
   ]
  },
  {
   "cell_type": "markdown",
   "metadata": {},
   "source": [
    "<h3>Celda 3 -- Pipeline y clonador del repositorio</h3>\n",
    "<p>Este bloque se encarga de llamar a las diferentes partes del programa, creando primero el repositorio en gitHub y una vez sacado el link del repositorio, clonarlo en el ordenador</p>"
   ]
  },
  {
   "cell_type": "code",
   "execution_count": 3,
   "metadata": {},
   "outputs": [
    {
     "name": "stdout",
     "output_type": "stream",
     "text": [
      "Creating project\n",
      "Logging into account\n",
      "Filling project information\n",
      "Creating project\n",
      "Fetching URL\n",
      "GitHub repo created\n",
      "Cloning repo in computer\n"
     ]
    }
   ],
   "source": [
    "import subprocess\n",
    "\n",
    "def clone_repo(url, dir_):\n",
    "    os.chdir(dir_)\n",
    "    clone_git = subprocess.Popen('git clone ' + url, stdout=subprocess.PIPE, shell=True)\n",
    "    clone_git.communicate()\n",
    "\n",
    "def launch_vscode(project_dir):\n",
    "    os.chdir(project_dir)\n",
    "    os.popen('code .')\n",
    "\n",
    "def create_project(name_, description, is_public, dir_):\n",
    "    project_dir = dir_ + '\\\\' + name_\n",
    "\n",
    "    if os.path.isdir(project_dir):\n",
    "        print(\"Cannot create project as it already exists\")\n",
    "\n",
    "    print(\"Creating project\")\n",
    "    git_url = create_git(name_, description, is_public)\n",
    "    print(\"Cloning repo in computer\")\n",
    "    clone_repo(git_url, dir_)\n",
    "    \n",
    "create_project(project_name, project_description, is_public, project_dir)\n",
    "\n"
   ]
  }
 ],
 "metadata": {
  "kernelspec": {
   "display_name": "Python 3",
   "language": "python",
   "name": "python3"
  },
  "language_info": {
   "codemirror_mode": {
    "name": "ipython",
    "version": 3
   },
   "file_extension": ".py",
   "mimetype": "text/x-python",
   "name": "python",
   "nbconvert_exporter": "python",
   "pygments_lexer": "ipython3",
   "version": "3.5.4"
  }
 },
 "nbformat": 4,
 "nbformat_minor": 2
}
