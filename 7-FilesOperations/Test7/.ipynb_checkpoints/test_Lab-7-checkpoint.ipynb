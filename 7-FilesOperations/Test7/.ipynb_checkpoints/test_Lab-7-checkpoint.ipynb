{
 "cells": [
  {
   "cell_type": "markdown",
   "metadata": {},
   "source": [
    "# Friday Meet Up - Files\n",
    "\n",
    "\n",
    "### Student: Jorge González Cardelús\n",
    "### Group:    1º B\n",
    "### Date:       8/NOV/2019"
   ]
  },
  {
   "cell_type": "markdown",
   "metadata": {},
   "source": [
    "### Encriptación de contraseñas (10 puntos)"
   ]
  },
  {
   "cell_type": "markdown",
   "metadata": {},
   "source": [
    "#### Problem:\n",
    "\n",
    "The security and intrusion detection service of the university has detected an access not allowed to the file passwords.txt. This file contains the student's id and passwords with this format:\n",
    "\n",
    "19962312 jkdhh83l  \n",
    "20062355 hfiopwkd  \n",
    "20193782 fghjweof  \n",
    "\n",
    "The passwords are composed of 8 alphanumeric characters.\n",
    "\n",
    "We are asked to re-encrypt all passwords to avoid data leakage. To do this we must follow these steps:\n",
    "\n",
    "1. Read the information in the file passwords.txt\n",
    "2. Ask the user for a positive shift greater than 1 and less than 26\n",
    "3. Encrypt the password associated with each user\n",
    "4. Save back this information into a new text file called passwords_new.txt\n",
    "\n",
    "The encryption process consists of the following:\n",
    "\n",
    "* Special characters (symbols) are not encoded\n",
    "* Alphabetic characters are encoded using the Julius Caesar method: \"In cryptography, Caesar's cipher, also known as  Caesar's code, or Caesar's shift, is one of the simplest and most widely used cipher techniques. It is a type of cipher by substitution in which a letter in the original text is replaced by another letter that is a fixed number of positions later in the alphabet. For example, with a displacement of 3, A would be replaced by D (located 3 places to the right of A), B would be replaced by E, and so on. This method owes its name to Julius Caesar, who used it to communicate with his generals.\" . So we must first ask for the number of characters to shift and then, replace in the password the resulting character. \n",
    "* The digits are coded with the same shift used to encrypt the alphabetic characters but supposing a circular shift in a sequence of digits of 0,1,2....8,9. That is, if the shift is 3, the digit 4 would be coded as 7 and the digit 9 would be coded as 2.\n",
    "\n",
    "Consider the alphabetical sequence as: abcdefghijklmnopqrstuvwxyz  \n",
    "Consider the numerical sequence as: 0123456789  \n",
    "\n",
    "#### Example \n",
    "\n",
    "password: bf!%xa8$\n",
    "\n",
    "Enter a shift: 5\n",
    "\n",
    "The new password would be: gk!%cf3$"
   ]
  },
  {
   "cell_type": "code",
   "execution_count": 1,
   "metadata": {},
   "outputs": [],
   "source": [
    "# SETUP\n",
    "def split_chars(chars):\n",
    "    array = []\n",
    "    for char in chars:\n",
    "        array.append(char)\n",
    "        \n",
    "    return array\n",
    "\n",
    "alphabet_lower = split_chars(\"abcdefghijklmnopqrstuvwxyz\")\n",
    "alphabet_upper = split_chars(\"abcdefghijklmnopqrstuvwxyz\".upper())\n",
    "digits = split_chars(\"0123456789\")\n",
    "\n",
    "file = open('passwords.txt', 'r')\n",
    "information = file.readlines()\n",
    "file.close()"
   ]
  },
  {
   "cell_type": "code",
   "execution_count": 2,
   "metadata": {},
   "outputs": [
    {
     "name": "stdout",
     "output_type": "stream",
     "text": [
      "Welcome to JuliusCryptor v0.1\n",
      "_____________________________\n",
      "\n",
      "Enter shift please: 0\n",
      "Invalid shift, please enter one above 1 and below 26\n",
      "Enter shift please: 29\n",
      "Invalid shift, please enter one above 1 and below 26\n",
      "Enter shift please: 5\n"
     ]
    }
   ],
   "source": [
    "# PROGRAM PARAMETERS\n",
    "print(\"Welcome to JuliusCryptor v0.1\")\n",
    "print(\"_____________________________\")\n",
    "print(\"\")\n",
    "\n",
    "shift = 0\n",
    "while True:\n",
    "    possible_shift = int(input('Enter shift please: '))\n",
    "    if possible_shift > 0 and possible_shift < 26:\n",
    "        shift = possible_shift\n",
    "        break\n",
    "    else:\n",
    "        print(\"Invalid shift, please enter one above 1 and below 26\")    "
   ]
  },
  {
   "cell_type": "code",
   "execution_count": 3,
   "metadata": {},
   "outputs": [],
   "source": [
    "def encrypt(data):\n",
    "    encrypted_data = ''\n",
    "    \n",
    "    for char in data:\n",
    "        if char in alphabet_lower:\n",
    "            encrypted_data += encrypt_char(alphabet_lower, char)\n",
    "        elif char in alphabet_upper:\n",
    "            encrypted_data += encrypt_char(alphabet_upper, char)\n",
    "        elif char in digits:\n",
    "            encrypted_data += encrypt_char(digits, char)\n",
    "        else:\n",
    "            # It is a symbol, not take into consideration\n",
    "            encrypted_data += char\n",
    "            \n",
    "    return encrypted_data\n",
    "\n",
    "def encrypt_char(array, char):\n",
    "    global shift\n",
    "    \n",
    "    encrypted_char = ''\n",
    "    for i, array_char in enumerate(array):\n",
    "        if char == array_char:\n",
    "            j = i + shift\n",
    "            \n",
    "            # Check if j is above the limit\n",
    "            while j >= len(array):\n",
    "                j -= len(array)\n",
    "                \n",
    "            encrypted_char = array[j]\n",
    "    \n",
    "    return encrypted_char"
   ]
  },
  {
   "cell_type": "code",
   "execution_count": 4,
   "metadata": {},
   "outputs": [],
   "source": [
    "file = open('passwords_new.txt', 'w+')\n",
    "\n",
    "for i, raw_user_info in enumerate(information):\n",
    "    user_info = raw_user_info.split(' ')\n",
    "    \n",
    "    user = user_info[0]\n",
    "    password = user_info[1]\n",
    "    \n",
    "    enc_password = encrypt(password)\n",
    "    \n",
    "    updated_user_info = user + ' ' + enc_password\n",
    "    file.writelines(updated_user_info)\n",
    "    \n",
    "file.close()"
   ]
  },
  {
   "cell_type": "code",
   "execution_count": 5,
   "metadata": {},
   "outputs": [
    {
     "name": "stdout",
     "output_type": "stream",
     "text": [
      "\n",
      "_________________________________\n",
      "All passwords have been encrypted\n"
     ]
    }
   ],
   "source": [
    "print()\n",
    "print(\"_________________________________\")\n",
    "print(\"All passwords have been encrypted\")"
   ]
  }
 ],
 "metadata": {
  "kernelspec": {
   "display_name": "Python 3",
   "language": "python",
   "name": "python3"
  },
  "language_info": {
   "codemirror_mode": {
    "name": "ipython",
    "version": 3
   },
   "file_extension": ".py",
   "mimetype": "text/x-python",
   "name": "python",
   "nbconvert_exporter": "python",
   "pygments_lexer": "ipython3",
   "version": "3.6.7"
  }
 },
 "nbformat": 4,
 "nbformat_minor": 2
}
