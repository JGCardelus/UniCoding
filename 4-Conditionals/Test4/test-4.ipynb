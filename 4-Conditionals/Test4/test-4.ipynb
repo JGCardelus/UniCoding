{
 "cells": [
  {
   "cell_type": "markdown",
   "metadata": {},
   "source": [
    "# Friday Meet Up - Conditionals\n",
    "\n",
    "\n",
    "### Student: Jorge González\n",
    "### Group:   1º B\n",
    "### Date:       4/OCT/2019"
   ]
  },
  {
   "cell_type": "markdown",
   "metadata": {},
   "source": [
    "### 1- Vending Machine (4 points)"
   ]
  },
  {
   "cell_type": "markdown",
   "metadata": {},
   "source": [
    "We need to write a program to compute the number of coins that a vending machine should return.\n",
    "Description:\n",
    "1. Our vending machine only sells products for less than 2 EUR.\n",
    "2. Therefore the maximum amount that the customer can insert is 2 EUR.\n",
    "3. Our machine can give back change in coins of 1.00, 0.50, 0.20, 0.10, or 0.05 EUR\n",
    "4. Note that the algorithm does not require loops (we will see loops very soon), it only requires the use of conditionals\n",
    "\n",
    "Steps:\n",
    "0. It is better to work in cents than in Euros, because you can use int instead of float. However, from the user point of view all input/output operations should use Euros.\n",
    "1. Ask for the amount introduced in the machine and the price of the product (do not validate the inputs because validation requires loops)\n",
    "2. Calculate the change to be returned\n",
    "3. Calculate how many coins of each type should be returned.\n",
    "4. Note that the only coin that may be repeated is the 20 cent coin.\n",
    "5. Run the program using different examples\n",
    "\n",
    "        Amount: 2.00  Price: 1.35  Change: 1x50c 1x10c 1x5\n",
    "        Amount: 1.50  Price: 1.05  Change: 2x20c 1x5c\n",
    "        \n",
    "     "
   ]
  },
  {
   "cell_type": "code",
   "execution_count": 48,
   "metadata": {},
   "outputs": [
    {
     "name": "stdout",
     "output_type": "stream",
     "text": [
      "Price: 1.00\n",
      "Amount: 1.35\n",
      "Amount: 1.35 || Price: 1.0 || Change: 1.0x20c // 1x10c // 1x5c\n",
      "\n",
      "Other examples\n",
      "Amount: 1.5 || Price: 1.05 || Change: 2.0x20c // 1x5c\n",
      "\n",
      "Amount: 2 || Price: 1.35 || Change: 1x50c // 1x10c // 1x5c\n",
      "\n",
      "Amount: 1.15 || Price: 0.5 || Change: 1x50c // 1x10c // \n",
      "Amount: 1 || Price: 2 || Change: Not enough money.\n",
      "\n"
     ]
    }
   ],
   "source": [
    "def check(change, amount):\n",
    "    num = 0\n",
    "    if change > 0:\n",
    "        if change - amount >= 0:\n",
    "            change -= amount\n",
    "            num = 1\n",
    "            \n",
    "    return change, num\n",
    "\n",
    "def calc_change(amount, price):\n",
    "    amount_cents = amount * 100\n",
    "    price_cents = price * 100\n",
    "\n",
    "    change = amount_cents - price_cents\n",
    "    \n",
    "    print(\"Amount: %s || Price: %s\" % (amount, price), end=' || Change: ')\n",
    "    if change >= 0:\n",
    "        change, num = check(change, 100)\n",
    "        if num > 0:\n",
    "            print(\"1x1E\", end=' // ')\n",
    "\n",
    "        change, num = check(change, 50)\n",
    "        if num > 0:\n",
    "            print(\"1x50c\", end=' // ')\n",
    "\n",
    "        num = 0\n",
    "        if change > 0:\n",
    "            if change // 20 >= 0 and change >= 20:\n",
    "                n = change // 20\n",
    "                change -= 20 * n\n",
    "                num = n\n",
    "\n",
    "        if num > 0:\n",
    "            print(\"%sx20c\" % (num), end=' // ')\n",
    "\n",
    "        change, num = check(change, 10)\n",
    "        if num > 0:\n",
    "            print(\"1x10c\", end=' // ')\n",
    "\n",
    "        change, num = check(change, 5)\n",
    "        if num > 0:\n",
    "            print(\"1x5c\")\n",
    "    else:\n",
    "        print(\"Not enough money.\")\n",
    "        \n",
    "    print()\n",
    "\n",
    "price = float(input(\"Price: \"))\n",
    "amount = float(input(\"Amount: \"))\n",
    "calc_change(amount, price)\n",
    "print(\"Other examples\")\n",
    "calc_change(1.50, 1.05)\n",
    "calc_change(2, 1.35)\n",
    "calc_change(1.15, 0.50)\n",
    "calc_change(1, 2)"
   ]
  },
  {
   "cell_type": "markdown",
   "metadata": {},
   "source": [
    "### 2- Cracking a password (4 points)"
   ]
  },
  {
   "cell_type": "markdown",
   "metadata": {},
   "source": [
    "We would like to find a secret password made of 3 characters.\n",
    "\n",
    "Case 1. We know the password is made of one uppercase, followed by one lowercase, and one number\n",
    "\n",
    "Case 2. We just know the password is made of 3 characters, of any kind.\n",
    "\n",
    "1. Initialize the strings of valid character (already provided)\n",
    "2. Initialize a secret (already provided)\n",
    "3. Make the necessary loops and comparisons to find the secret. This is called brute-force attack\n",
    "4. Add a counter for the number of tries."
   ]
  },
  {
   "cell_type": "code",
   "execution_count": 16,
   "metadata": {},
   "outputs": [],
   "source": [
    "upper=\"ABCDEFGHIJ\"\n",
    "lower=\"abcdefghij\"\n",
    "numbers=\"1234567890\"\n",
    "secret=\"Je1\""
   ]
  },
  {
   "cell_type": "code",
   "execution_count": 36,
   "metadata": {},
   "outputs": [
    {
     "name": "stdout",
     "output_type": "stream",
     "text": [
      "Found! Je1 // Tries: 941 // Time-sec: 0.0\n"
     ]
    }
   ],
   "source": [
    "#CASE 1\n",
    "import time\n",
    "\n",
    "start = time.time()\n",
    "counter = 0\n",
    "for letter_u in upper:\n",
    "    for letter_l in lower:\n",
    "        for number in numbers:\n",
    "            counter += 1\n",
    "            pos_pass = letter_u + letter_l + number\n",
    "            if pos_pass == secret:\n",
    "                end = time.time() - start\n",
    "                print(\"Found! %s // Tries: %s // Time-sec: %s\" % (pos_pass, counter, end))\n",
    "                break\n",
    "                "
   ]
  },
  {
   "cell_type": "code",
   "execution_count": 37,
   "metadata": {},
   "outputs": [
    {
     "name": "stdout",
     "output_type": "stream",
     "text": [
      "Found! Je1 // Tries: 8541 // Time-sec: 0.002991199493408203\n"
     ]
    }
   ],
   "source": [
    "#CASE 2\n",
    "syms = upper + lower + numbers\n",
    "\n",
    "start = time.time()\n",
    "counter = 0\n",
    "for a in syms:\n",
    "    for b in syms:\n",
    "        for c in syms:\n",
    "            counter += 1\n",
    "            pos_pass = a + b + c\n",
    "            if pos_pass == secret:\n",
    "                end = time.time() - start\n",
    "                print(\"Found! %s // Tries: %s // Time-sec: %s\" % (pos_pass, counter, end))\n",
    "                break"
   ]
  },
  {
   "cell_type": "markdown",
   "metadata": {},
   "source": [
    "### 4- FIX ALL THE ERRORS IN THE CODE (2 points)"
   ]
  },
  {
   "cell_type": "code",
   "execution_count": 21,
   "metadata": {},
   "outputs": [
    {
     "name": "stdout",
     "output_type": "stream",
     "text": [
      "found\n"
     ]
    }
   ],
   "source": [
    "lower=\"abcdefghij\"\n",
    "if \"abc\" in lower: print(\"found\")"
   ]
  },
  {
   "cell_type": "code",
   "execution_count": 38,
   "metadata": {},
   "outputs": [
    {
     "name": "stdout",
     "output_type": "stream",
     "text": [
      "This is a lowercase consonant\n",
      "This is an uppercase consonant\n",
      "This is a lowercase vowel\n",
      "This is an uppercase vowel\n",
      "This symbol is not registered\n"
     ]
    }
   ],
   "source": [
    "char=\"h\"\n",
    "\n",
    "\n",
    "vowels=\"aeiou\"\n",
    "consonants=\"bcdfghjklmnpqrstvwxyz\"\n",
    "\n",
    "def check_sym(char):\n",
    "    if char in vowels:\n",
    "        print(\"This is a lowercase vowel\")\n",
    "    elif char in consonants:\n",
    "        print(\"This is a lowercase consonant\")\n",
    "    elif char in vowels.upper():\n",
    "        print(\"This is an uppercase vowel\")\n",
    "    elif char in consonants.upper():\n",
    "        print(\"This is an uppercase consonant\") \n",
    "    else:\n",
    "        print(\"This symbol is not registered\")\n",
    "        \n",
    "check_sym(\"h\")\n",
    "check_sym(\"H\")\n",
    "check_sym(\"a\")\n",
    "check_sym(\"A\")\n",
    "check_sym(\"$\")\n",
    "    \n",
    "#Hint: What happen with char=”H” or char=”A” or char=”$” "
   ]
  },
  {
   "cell_type": "code",
   "execution_count": null,
   "metadata": {},
   "outputs": [],
   "source": []
  },
  {
   "cell_type": "code",
   "execution_count": 39,
   "metadata": {},
   "outputs": [
    {
     "name": "stdout",
     "output_type": "stream",
     "text": [
      "Fever\n",
      "Fever\n",
      "Wrong reading\n",
      "Wrong reading\n",
      "Normal\n",
      "Normal\n"
     ]
    }
   ],
   "source": [
    "def check_fever(F):\n",
    "    if F>=100.4:\n",
    "        print(\"Fever\")\n",
    "    elif F>=98.6:\n",
    "        print(\"Normal\")\n",
    "    else:\n",
    "        print(\"Wrong reading\")\n",
    "\n",
    "    #Previous code is correct. Fix the following code:\n",
    "    if F<98.6:\n",
    "        print(\"Wrong reading\")\n",
    "    elif F>=98.6 and F<=100.4:\n",
    "        print(\"Normal\")\n",
    "    else:\n",
    "        print(\"Fever\")\n",
    "        \n",
    "check_fever(102.0)\n",
    "check_fever(40)\n",
    "check_fever(100)"
   ]
  },
  {
   "cell_type": "code",
   "execution_count": null,
   "metadata": {},
   "outputs": [],
   "source": []
  }
 ],
 "metadata": {
  "kernelspec": {
   "display_name": "Python 3",
   "language": "python",
   "name": "python3"
  },
  "language_info": {
   "codemirror_mode": {
    "name": "ipython",
    "version": 3
   },
   "file_extension": ".py",
   "mimetype": "text/x-python",
   "name": "python",
   "nbconvert_exporter": "python",
   "pygments_lexer": "ipython3",
   "version": "3.7.4"
  }
 },
 "nbformat": 4,
 "nbformat_minor": 2
}
