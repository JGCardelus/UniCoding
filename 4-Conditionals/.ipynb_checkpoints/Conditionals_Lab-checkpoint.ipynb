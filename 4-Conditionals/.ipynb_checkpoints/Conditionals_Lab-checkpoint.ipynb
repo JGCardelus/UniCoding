{
 "cells": [
  {
   "cell_type": "markdown",
   "metadata": {},
   "source": [
    "# Conditionals\n",
    "### Student: Jorge González\n",
    "### Group: 1º B\n",
    "### Date: 30/09/2019"
   ]
  },
  {
   "cell_type": "markdown",
   "metadata": {},
   "source": [
    "## Discount calculator"
   ]
  },
  {
   "cell_type": "code",
   "execution_count": 1,
   "metadata": {},
   "outputs": [
    {
     "name": "stdout",
     "output_type": "stream",
     "text": [
      "Enter number of items to buy: -200\n",
      "We cannot give you elements for free.\n",
      "Invalid request.\n",
      "Total price: 0\n"
     ]
    }
   ],
   "source": [
    "n_items = int(input(\"Enter number of items to buy: \"))\n",
    "\n",
    "price_unit = 10\n",
    "if n_items > 10 and n_items <= 100:\n",
    "    price_unit = 7\n",
    "elif n_items > 100:\n",
    "    price_unit = 5\n",
    "elif n_items < 0:\n",
    "    print(\"We cannot give you elements for free.\")\n",
    "    print(\"Invalid request.\")\n",
    "    n_items = 0\n",
    "    \n",
    "total_price = n_items * price_unit\n",
    "print(\"Total price: %s\" % (total_price))"
   ]
  },
  {
   "cell_type": "markdown",
   "metadata": {},
   "source": [
    "## Body Mass Index calculator\n",
    "\n",
    "$$ BMI = {\\dfrac{mass}{height^2}} $$\n",
    "\n",
    "All units must be in I.S."
   ]
  },
  {
   "cell_type": "code",
   "execution_count": 2,
   "metadata": {},
   "outputs": [
    {
     "name": "stdout",
     "output_type": "stream",
     "text": [
      "Enter mass in kg: 50\n",
      "Enter height in cm: 100\n",
      "Obese\n"
     ]
    }
   ],
   "source": [
    "mass = float(input(\"Enter mass in kg: \"))\n",
    "height = float(input(\"Enter height in cm: \")) / 100.0 #Cm to m\n",
    "\n",
    "bmi = mass / (height ** 2)\n",
    "\n",
    "if bmi < 18.5:\n",
    "    print(\"Low weight\")\n",
    "elif bmi >= 18.5 and bmi < 25:\n",
    "    print(\"Normal range\")\n",
    "elif bmi >= 25 and bmi < 30:\n",
    "    print(\"Overweight\")\n",
    "else:\n",
    "    print(\"Obese\")"
   ]
  },
  {
   "cell_type": "markdown",
   "metadata": {},
   "source": [
    "## Password generator"
   ]
  },
  {
   "cell_type": "code",
   "execution_count": 3,
   "metadata": {},
   "outputs": [
    {
     "name": "stdout",
     "output_type": "stream",
     "text": [
      "c##j67ZC\n"
     ]
    }
   ],
   "source": [
    "import random\n",
    "\n",
    "def decode_range(lst):\n",
    "    chars = []\n",
    "    for ascii_num in lst:\n",
    "        chars.append(chr(ascii_num))\n",
    "        \n",
    "    return chars\n",
    "\n",
    "#Numbers\n",
    "numbers = decode_range(range(48, 58)) #ASCII Numbers: 48 --> 1, 49 --> 2, ..., 57 --> 9\n",
    "#All symbols in ACII\n",
    "sym_range = list(range(32, 48))\n",
    "sym_range.extend(range(58, 65))\n",
    "sym_range.extend(range(91, 96))\n",
    "sym_range.extend(range(123, 128))\n",
    "symbols = decode_range(sym_range)\n",
    "#Letters\n",
    "letters_upper = decode_range(range(65, 91))\n",
    "letters_lower = decode_range(range(97, 123))\n",
    "\n",
    "all_chars = [numbers, symbols, letters_upper, letters_lower]\n",
    "\n",
    "def create_password(pass_length):\n",
    "    password = \"\"\n",
    "    a = 0\n",
    "    while len(password) < pass_length:\n",
    "        if a == 4:\n",
    "            a = 0\n",
    "\n",
    "        type_ = all_chars[a]\n",
    "        char_num = random.randint(0, len(type_) - 1)\n",
    "        char = type_[char_num]\n",
    "\n",
    "        password += char\n",
    "\n",
    "        a += 1\n",
    "\n",
    "    password = \"\".join(random.sample(password, len(password))) #Change order of chars\n",
    "    \n",
    "    return password\n",
    "\n",
    "print(create_password(8))"
   ]
  },
  {
   "cell_type": "markdown",
   "metadata": {},
   "source": [
    "## User registering application"
   ]
  },
  {
   "cell_type": "code",
   "execution_count": 5,
   "metadata": {},
   "outputs": [
    {
     "name": "stdout",
     "output_type": "stream",
     "text": [
      "Enter username (length must be 8): wrongus\n",
      "Length had to be 8, not 7\n",
      "Tries left: 2\n",
      "Enter username (length must be 8): username\n",
      "Password rules, min: 1 digit, 1 symbol, 1 upper case letter, 1 lower case letter\n",
      "Enter password: hellowrold\n",
      "Tries left: 1\n",
      "Enter username (length must be 8): username\n",
      "Password rules, min: 1 digit, 1 symbol, 1 upper case letter, 1 lower case letter\n",
      "Enter password: 1@hell0;\n",
      "Tries left: 0\n",
      "Password was incorrect too many times, assigning auto generated password\n",
      "Your password username is: 6.hNZi,0\n",
      "Welcome username\n"
     ]
    }
   ],
   "source": [
    "def fits_rules(password):\n",
    "    letter_lower = False\n",
    "    letter_upper = False\n",
    "    number = False\n",
    "    symbol = False\n",
    "    \n",
    "    if len(password) == 8:\n",
    "        for char in password:\n",
    "            if char in numbers:\n",
    "                number = True\n",
    "            if char in symbols:\n",
    "                symbol = True\n",
    "            if char in letters_upper:\n",
    "                letter_upper = True\n",
    "            if char in letters_lower:\n",
    "                letter_lower = True\n",
    "            \n",
    "    fits = False\n",
    "    if letter_lower and letter_upper and number and symbol:\n",
    "        fits = True\n",
    "        \n",
    "    return fits\n",
    "\n",
    "\n",
    "username = \"\"\n",
    "password = \"\"\n",
    "\n",
    "is_pass_correct = False\n",
    "tries = 3\n",
    "while tries > 0 and not is_pass_correct:\n",
    "    username = input(\"Enter username (length must be 8): \")\n",
    "    if len(username) == 8:\n",
    "        print(\"Password rules, min: 1 digit, 1 symbol, 1 upper case letter, 1 lower case letter\")\n",
    "        password = input(\"Enter password: \")\n",
    "        is_pass_correct = fits_rules(password)\n",
    "    else:\n",
    "        print(\"Length had to be 8, not %s\" % (len(username)))\n",
    "    \n",
    "    if not is_pass_correct:\n",
    "        tries -= 1\n",
    "        print(\"Tries left: %s\" % (tries))\n",
    "    else:\n",
    "        print(\"Correct username and password\")\n",
    "    \n",
    "if not is_pass_correct and len(username) == 8:\n",
    "    print(\"Password was incorrect too many times, assigning auto generated password\")\n",
    "    password = create_password(8)\n",
    "    print(\"Your password %s is: %s\" % (username, password))\n",
    "    is_pass_correct = True\n",
    "    \n",
    "elif len(username) != 8:\n",
    "    print(\"Username was incorrect too many times. Access denied to platform\")\n",
    "\n",
    "if is_pass_correct:\n",
    "    print(\"Welcome %s\" % (username))"
   ]
  },
  {
   "cell_type": "code",
   "execution_count": null,
   "metadata": {},
   "outputs": [],
   "source": []
  }
 ],
 "metadata": {
  "kernelspec": {
   "display_name": "Python 3",
   "language": "python",
   "name": "python3"
  },
  "language_info": {
   "codemirror_mode": {
    "name": "ipython",
    "version": 3
   },
   "file_extension": ".py",
   "mimetype": "text/x-python",
   "name": "python",
   "nbconvert_exporter": "python",
   "pygments_lexer": "ipython3",
   "version": "3.7.4"
  }
 },
 "nbformat": 4,
 "nbformat_minor": 2
}
