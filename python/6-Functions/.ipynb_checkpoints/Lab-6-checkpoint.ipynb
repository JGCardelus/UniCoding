{
 "cells": [
  {
   "cell_type": "markdown",
   "metadata": {},
   "source": [
    "# Lab 6: Functions and exceptions\n",
    "#### Name: Jorge González\n",
    "#### GroupID: 1ºB\n",
    "#### Date: 21/10/2019"
   ]
  },
  {
   "cell_type": "markdown",
   "metadata": {},
   "source": [
    "### Drawing a game in Tic Tac Toe"
   ]
  },
  {
   "cell_type": "code",
   "execution_count": 1,
   "metadata": {},
   "outputs": [],
   "source": [
    "import numpy as np\n",
    "\n",
    "def draw_line(w, elems):\n",
    "    for i in range(w):\n",
    "        print(\" ...\", end=\"\")\n",
    "    print()\n",
    "    for i in range(w):\n",
    "        elem = elems[i]\n",
    "        if elem == 1:\n",
    "            elem = \"O\"\n",
    "        elif elem == 0:\n",
    "            elem = \"X\"\n",
    "        else:\n",
    "            elem = \" \"\n",
    "        \n",
    "        if i == 0:\n",
    "            print(\"    | %s \" % (elem), end=\"\")\n",
    "        else:\n",
    "            print(\"| %s \" % (elem), end=\"\")\n",
    "            \n",
    "    print(\"|\")\n",
    "    \n",
    "def draw_board(s, elems):\n",
    "    if elems == None:\n",
    "        elems = []\n",
    "        for i in range(s):\n",
    "            col = []\n",
    "            for j in range(s):\n",
    "                col.append(\" \")\n",
    "            elems.append(col)\n",
    "    \n",
    "    #Print row num\n",
    "    print((\"{:4s}\").format(\"\"), end=\"\")\n",
    "    for i in range(s):\n",
    "        print((\"{:4d}\").format(i), end=\"\")\n",
    "    print()        \n",
    "    for i in range(s):\n",
    "        print((\"{:2d}\").format(i), end=\". \")\n",
    "        draw_line(s, elems[i])"
   ]
  },
  {
   "cell_type": "markdown",
   "metadata": {},
   "source": [
    "### Checking Tic Tac Toe winner"
   ]
  },
  {
   "cell_type": "code",
   "execution_count": 2,
   "metadata": {},
   "outputs": [],
   "source": [
    "#Checks if a certain row contains three elements which are the same\n",
    "def check_line(player, matrix):\n",
    "    has_won = False\n",
    "    for row in matrix:\n",
    "        counter = 0\n",
    "        for col in row:\n",
    "            if col == player:\n",
    "                counter += 1\n",
    "          \n",
    "        if counter == len(matrix[0]):\n",
    "            has_won = True\n",
    "            break\n",
    "            \n",
    "    return has_won\n",
    "\n",
    "#Creates a new matrix, containing both diagonals and the passes it\n",
    "#to the check_line function which can calculate if there is a winnning\n",
    "#state\n",
    "def check_diagonals(player, game):\n",
    "    diagonal_a = []\n",
    "    diagonal_b = []\n",
    "    \n",
    "    for i in range(len(game)):\n",
    "        for j in range(len(game)):\n",
    "            if i == j:\n",
    "                diagonal_a.append(game[i][j])\n",
    "            if len(game) - (i + 1) == j:\n",
    "                diagonal_b.append(game[i][j])\n",
    "                \n",
    "    diagonal_a = np.array(diagonal_a)\n",
    "    diagonal_b = np.array(diagonal_b)\n",
    "                \n",
    "    has_won = check_line(player, [diagonal_a, diagonal_b])\n",
    "    return has_won\n",
    "    \n",
    "#Checks the winning state for rows, columns and diagonals\n",
    "def check_game(player, game):\n",
    "    game = np.array(game)\n",
    "    \n",
    "    has_won = check_line(player, game)\n",
    "    #The columns of the game matrix are the rows of the transposed\n",
    "    #Therefore if we transposed the matrix it can be analysed by\n",
    "    #check_line\n",
    "    if not has_won: has_won = check_line(player, np.transpose(game))\n",
    "    if not has_won: has_won = check_diagonals(player, game)\n",
    "    \n",
    "    return has_won\n",
    "\n",
    "#Checks if all cells have been completed but if there is no \n",
    "#winning state\n",
    "def check_lost_state(game):\n",
    "    lost = True\n",
    "    for row in game:\n",
    "        for col in row:\n",
    "            if col == 3:\n",
    "                lost = False\n",
    "                \n",
    "    return lost"
   ]
  },
  {
   "cell_type": "markdown",
   "metadata": {},
   "source": [
    "### Draw and check"
   ]
  },
  {
   "cell_type": "code",
   "execution_count": 3,
   "metadata": {},
   "outputs": [],
   "source": [
    "def turn(n, player, identificator, game):    \n",
    "    print(\"%s - Turn\" % (identificator))\n",
    "    player_step(player, game)\n",
    "    has_won = check_game(player, game)\n",
    "    draw_board(n, game)\n",
    "    if has_won == True:\n",
    "        print(\"Player %s has won\" % (identificator))\n",
    "        return True\n",
    "    \n",
    "    both_loose = check_lost_state(game)\n",
    "    if both_loose:\n",
    "        print(\"Sorry both players have lost.\")\n",
    "        return True\n",
    "    \n",
    "    return False"
   ]
  },
  {
   "cell_type": "markdown",
   "metadata": {},
   "source": [
    "### Ask user for a movement"
   ]
  },
  {
   "cell_type": "code",
   "execution_count": 4,
   "metadata": {},
   "outputs": [],
   "source": [
    "def get_input(game):\n",
    "    try:\n",
    "        correct = False\n",
    "        x = int(input(\"X: \"))\n",
    "        y = int(input(\"Y: \"))\n",
    "\n",
    "        if x < len(game) and x >= 0:\n",
    "            if y < len(game) and y >= 0:\n",
    "                if game[y][x] == 3:\n",
    "                    correct = True\n",
    "                else:\n",
    "                    print(\"Those coordinates have already been selected\")\n",
    "            else:\n",
    "                print(\"The Y coordinates are invalid.\")\n",
    "        else:\n",
    "            print(\"The X coordinates are invalid.\")\n",
    "    except ValueError:\n",
    "        print(\"The input is not in the correct format, consider using numbers.\")\n",
    "        x = None\n",
    "        y = None\n",
    "        \n",
    "    return correct, x, y\n",
    "    "
   ]
  },
  {
   "cell_type": "markdown",
   "metadata": {},
   "source": [
    "### Update board with new movement"
   ]
  },
  {
   "cell_type": "code",
   "execution_count": 5,
   "metadata": {},
   "outputs": [],
   "source": [
    "def player_step(player, game):\n",
    "    while True:\n",
    "        correct, x, y = get_input(game)\n",
    "        if correct:\n",
    "            game[y][x] = player\n",
    "            print()\n",
    "            break"
   ]
  },
  {
   "cell_type": "markdown",
   "metadata": {},
   "source": [
    "### Start new board"
   ]
  },
  {
   "cell_type": "code",
   "execution_count": 6,
   "metadata": {},
   "outputs": [],
   "source": [
    "def create_game(n):\n",
    "    game = []\n",
    "    for i in range(n):\n",
    "        col = []\n",
    "        for j in range(n):\n",
    "            col.append(3)\n",
    "        game.append(col)\n",
    "        \n",
    "    return game"
   ]
  },
  {
   "cell_type": "markdown",
   "metadata": {},
   "source": [
    "### Code the game"
   ]
  },
  {
   "cell_type": "code",
   "execution_count": 7,
   "metadata": {},
   "outputs": [
    {
     "name": "stdout",
     "output_type": "stream",
     "text": [
      "       0   1   2\n",
      " 0.  ... ... ...\n",
      "    |   |   |   |\n",
      " 1.  ... ... ...\n",
      "    |   |   |   |\n",
      " 2.  ... ... ...\n",
      "    |   |   |   |\n",
      "X - Turn\n",
      "X: 0\n",
      "Y: 0\n",
      "\n",
      "       0   1   2\n",
      " 0.  ... ... ...\n",
      "    | X |   |   |\n",
      " 1.  ... ... ...\n",
      "    |   |   |   |\n",
      " 2.  ... ... ...\n",
      "    |   |   |   |\n",
      "O - Turn\n",
      "X: 2\n",
      "Y: 0\n",
      "\n",
      "       0   1   2\n",
      " 0.  ... ... ...\n",
      "    | X |   | O |\n",
      " 1.  ... ... ...\n",
      "    |   |   |   |\n",
      " 2.  ... ... ...\n",
      "    |   |   |   |\n",
      "X - Turn\n",
      "X: 0\n",
      "Y: 1\n",
      "\n",
      "       0   1   2\n",
      " 0.  ... ... ...\n",
      "    | X |   | O |\n",
      " 1.  ... ... ...\n",
      "    | X |   |   |\n",
      " 2.  ... ... ...\n",
      "    |   |   |   |\n",
      "O - Turn\n",
      "X: 2\n",
      "Y: 1\n",
      "\n",
      "       0   1   2\n",
      " 0.  ... ... ...\n",
      "    | X |   | O |\n",
      " 1.  ... ... ...\n",
      "    | X |   | O |\n",
      " 2.  ... ... ...\n",
      "    |   |   |   |\n",
      "X - Turn\n",
      "X: 0\n",
      "Y: 2\n",
      "\n",
      "       0   1   2\n",
      " 0.  ... ... ...\n",
      "    | X |   | O |\n",
      " 1.  ... ... ...\n",
      "    | X |   | O |\n",
      " 2.  ... ... ...\n",
      "    | X |   |   |\n",
      "Player X has won\n",
      "Do you want to play a new game? [Y/n]n\n",
      "Thank you for playing.\n"
     ]
    }
   ],
   "source": [
    "def game_over():\n",
    "    reset = input(\"Do you want to play a new game? [Y/n]\")\n",
    "    if reset.lower() == 'n':\n",
    "        print(\"Thank you for playing.\")\n",
    "    else:\n",
    "        new_game(3)\n",
    "\n",
    "def new_game(n):\n",
    "    game = create_game(n)\n",
    "    x_won = False\n",
    "    o_won = False\n",
    "\n",
    "    draw_board(n, game)\n",
    "\n",
    "    while True:\n",
    "        end_play = turn(n, 0, \"X\", game)\n",
    "        if end_play: break\n",
    "\n",
    "        end_play = turn(n, 1, \"O\", game)\n",
    "        if end_play: break\n",
    "            \n",
    "    game_over()\n",
    "            \n",
    "new_game(3)"
   ]
  },
  {
   "cell_type": "code",
   "execution_count": null,
   "metadata": {},
   "outputs": [],
   "source": []
  }
 ],
 "metadata": {
  "kernelspec": {
   "display_name": "Python 3",
   "language": "python",
   "name": "python3"
  },
  "language_info": {
   "codemirror_mode": {
    "name": "ipython",
    "version": 3
   },
   "file_extension": ".py",
   "mimetype": "text/x-python",
   "name": "python",
   "nbconvert_exporter": "python",
   "pygments_lexer": "ipython3",
   "version": "3.6.8"
  }
 },
 "nbformat": 4,
 "nbformat_minor": 2
}
