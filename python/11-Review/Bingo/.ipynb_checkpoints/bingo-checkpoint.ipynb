{
 "cells": [
  {
   "cell_type": "markdown",
   "metadata": {},
   "source": [
    "# Automated Bingo Game"
   ]
  },
  {
   "cell_type": "markdown",
   "metadata": {},
   "source": [
    "### Create a method that returns a list with size * size random unique numbers between 0 and maximum\n",
    "\n",
    "With this definition:\n",
    "\n",
    "        def generar_carton(size, maximum)\n",
    "\n",
    "For example:\n",
    "\n",
    "        card = generar_carton(3, 20)\n",
    "        print(card)\n",
    "        [6, 4, 15, 8, 18, 1, 11, 17, 3]"
   ]
  },
  {
   "cell_type": "code",
   "execution_count": 1,
   "metadata": {},
   "outputs": [],
   "source": []
  },
  {
   "cell_type": "markdown",
   "metadata": {},
   "source": [
    "### Create a method that plots a bingo play card with an X in every matched number\n",
    "\n",
    "With this definition:\n",
    "\n",
    "        def imprime_carton(card, numbers)\n",
    "        \n",
    "Where \"card\" is the generated list with random numbers from previous step and \"numbers\" is a list with the number_balls that have already being popped out from the bingo drum. This function does not return anything only prints the card.\n",
    "\n",
    "For example:\n",
    "\n",
    "        imprime_carton([6, 4, 15, 8, 18, 1, 11, 17, 3], [])\n",
    "\n",
    "        |  6|  4| 15|\n",
    "        |  8| 18|  1|\n",
    "        | 11| 17|  3|\n",
    "        \n",
    "        imprime_carton([6, 4, 15, 8, 18, 1, 11, 17, 3], [1,2,3,4,5,6,7,8])\n",
    "        \n",
    "        |  X|  X| 15|\n",
    "        |  X| 18|  X|\n",
    "        | 11| 17|  X|"
   ]
  },
  {
   "cell_type": "code",
   "execution_count": 2,
   "metadata": {},
   "outputs": [],
   "source": []
  },
  {
   "cell_type": "markdown",
   "metadata": {},
   "source": [
    "### Create a method that simulates the Bing drum\n",
    "\n",
    "With this definition:\n",
    "\n",
    "        def simulate_drum(maximum,numbers)\n",
    "        \n",
    "Where \"maximum\" is the maximum value we are playing with and \"numbers\" is a list with all the number_balls that have already being popped out from the bingo drum. It must return a number that is in the Bingo drum (not any fo the numbers that have already being popped out)\n",
    "\n",
    "For example:\n",
    "\n",
    "        new_ball=simulate_drum(20, [1,2,3,4,5,6,7,8,9,10,11,12,13,14,15,16,17])\n",
    "        print(new_ball)\n",
    "        19"
   ]
  },
  {
   "cell_type": "code",
   "execution_count": 3,
   "metadata": {},
   "outputs": [],
   "source": [
    "    "
   ]
  },
  {
   "cell_type": "markdown",
   "metadata": {},
   "source": [
    "### Create a method that returns True when all the numbers in the Bingo Play Card have allready beoing popped out\n",
    "\n",
    "With this definition:\n",
    "\n",
    "        def finished(card,numbers)\n",
    "        \n",
    "Where \"card\" is the generated list with random numbers and \"numbers\" is a list with all the number_balls that have already being popped out from the bingo drum. It must return TRUE if the play card is complete or FALSE otherwise."
   ]
  },
  {
   "cell_type": "code",
   "execution_count": 4,
   "metadata": {},
   "outputs": [],
   "source": []
  },
  {
   "cell_type": "markdown",
   "metadata": {},
   "source": [
    "### Test and understand this method to play the game"
   ]
  },
  {
   "cell_type": "code",
   "execution_count": 5,
   "metadata": {},
   "outputs": [],
   "source": [
    "def play_game(size,maximum):\n",
    "    numbers_from_the_drum=[]\n",
    "    balls=0\n",
    "    card=generar_carton(size, maximum)\n",
    "    imprime_carton(card,numbers_from_the_drum)\n",
    "    while not finished(card,numbers_from_the_drum):\n",
    "        new_ball=simulate_drum(maximum,numbers_from_the_drum)\n",
    "        balls=balls+1\n",
    "        print(\"New Number: \",new_ball)\n",
    "        numbers_from_the_drum.append(new_ball)\n",
    "        print(\"Updated Play Card: \")\n",
    "        imprime_carton(card,numbers_from_the_drum)\n",
    "    return balls"
   ]
  },
  {
   "cell_type": "code",
   "execution_count": null,
   "metadata": {},
   "outputs": [],
   "source": []
  },
  {
   "cell_type": "code",
   "execution_count": null,
   "metadata": {},
   "outputs": [],
   "source": []
  },
  {
   "cell_type": "markdown",
   "metadata": {},
   "source": [
    "### Create a version of the previous method with no print outs\n",
    "\n",
    "With this definition:\n",
    "    \n",
    "        def play_game_no_display(size,maximum)"
   ]
  },
  {
   "cell_type": "code",
   "execution_count": 6,
   "metadata": {},
   "outputs": [],
   "source": []
  },
  {
   "cell_type": "markdown",
   "metadata": {},
   "source": [
    "### Create python script that simulates a game for card sizes from 1 to 9 with 100 balls in the Bingo drum that simulates 10 games per size. It must compute the average of the number of balls required to complete the card for every size.\n",
    "\n",
    "You must finished with an X vector like this [1,2,3,4,5,6,7,8,9]\n",
    "And a Y vector with the average number of balls required for 10 repetitions of a Bing game for each size\n",
    "\n",
    "Plot the evolution of \"Average number of balls required\" Vs \"Card size\""
   ]
  },
  {
   "cell_type": "code",
   "execution_count": null,
   "metadata": {},
   "outputs": [],
   "source": []
  }
 ],
 "metadata": {
  "kernelspec": {
   "display_name": "Python 3",
   "language": "python",
   "name": "python3"
  },
  "language_info": {
   "codemirror_mode": {
    "name": "ipython",
    "version": 3
   },
   "file_extension": ".py",
   "mimetype": "text/x-python",
   "name": "python",
   "nbconvert_exporter": "python",
   "pygments_lexer": "ipython3",
   "version": "3.6.7"
  }
 },
 "nbformat": 4,
 "nbformat_minor": 2
}
