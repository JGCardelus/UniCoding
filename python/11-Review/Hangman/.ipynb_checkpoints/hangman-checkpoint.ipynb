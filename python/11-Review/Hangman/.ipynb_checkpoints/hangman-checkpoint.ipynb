{
 "cells": [
  {
   "cell_type": "markdown",
   "metadata": {},
   "source": [
    "# Hangman"
   ]
  },
  {
   "cell_type": "markdown",
   "metadata": {},
   "source": [
    "## Read file with spanish words and remove accents\n",
    "You need to install the package unidecode from the Anaconda console:\n",
    "\n",
    "*conda install unidecode*"
   ]
  },
  {
   "cell_type": "code",
   "execution_count": 1,
   "metadata": {},
   "outputs": [
    {
     "data": {
      "text/plain": [
       "'Instruccion de eliminacion de acentos'"
      ]
     },
     "execution_count": 1,
     "metadata": {},
     "output_type": "execute_result"
    }
   ],
   "source": [
    "import unidecode\n",
    "unidecode.unidecode(\"Instrucción de eliminación de acentos\")"
   ]
  },
  {
   "cell_type": "code",
   "execution_count": 2,
   "metadata": {},
   "outputs": [],
   "source": [
    "file = open('spanish_words.txt', 'r', encoding='utf8')"
   ]
  },
  {
   "cell_type": "code",
   "execution_count": 3,
   "metadata": {},
   "outputs": [],
   "source": [
    "raw_words = file.readlines()"
   ]
  },
  {
   "cell_type": "code",
   "execution_count": 4,
   "metadata": {},
   "outputs": [],
   "source": [
    "words = []\n",
    "for raw_word in raw_words:\n",
    "    word = unidecode.unidecode(raw_word).rstrip()\n",
    "    words.append(word)"
   ]
  },
  {
   "cell_type": "markdown",
   "metadata": {},
   "source": [
    "## Ask user for the lenght of the word to guess and get a random word of that length"
   ]
  },
  {
   "cell_type": "code",
   "execution_count": 5,
   "metadata": {},
   "outputs": [],
   "source": [
    "def get_words(w_len):\n",
    "    global words\n",
    "    \n",
    "    w_niche = []\n",
    "    for word in words:\n",
    "        if len(word) == w_len:\n",
    "            w_niche.append(word)\n",
    "            \n",
    "    return w_niche"
   ]
  },
  {
   "cell_type": "code",
   "execution_count": 6,
   "metadata": {},
   "outputs": [],
   "source": [
    "w_len = 0\n",
    "w_niche = []"
   ]
  },
  {
   "cell_type": "code",
   "execution_count": 7,
   "metadata": {},
   "outputs": [
    {
     "name": "stdout",
     "output_type": "stream",
     "text": [
      "Introduzca el número de letras: 5\n"
     ]
    }
   ],
   "source": [
    "while True:\n",
    "    try:\n",
    "        n = int(input(\"Introduzca el número de letras: \"))\n",
    "        if n > 0:\n",
    "            possible_niche = get_words(n)\n",
    "            if len(possible_niche) > 0:\n",
    "                w_len = n\n",
    "                w_niche = possible_niche\n",
    "                break\n",
    "            else:\n",
    "                print(\"No hay ninguna palabra de %s letras. Por favor, introduzca un número más pequeño.\" % (str(n)))\n",
    "        else:\n",
    "            print(\"Por favor, introduzca un número mayor que 0.\")\n",
    "    except ValueError:\n",
    "        print(\"Por favor, introduzca un número.\")"
   ]
  },
  {
   "cell_type": "code",
   "execution_count": 8,
   "metadata": {},
   "outputs": [],
   "source": [
    "import random\n",
    "secret = random.choice(w_niche)"
   ]
  },
  {
   "cell_type": "markdown",
   "metadata": {},
   "source": [
    "## Implement a method that prints the secret panel with the selected letters"
   ]
  },
  {
   "cell_type": "markdown",
   "metadata": {},
   "source": [
    "For example:\n",
    "\n",
    "        secret=\"friendship\"\n",
    "        letters=[\"d\",\"f\",\"p\"]\n",
    "        printpanel(secret,letters)\n",
    "        \n",
    "        f____d___p\n",
    "        \n",
    "Or:\n",
    "\n",
    "        secret=\"friendship\"\n",
    "        letters=[\"i\",\"d\",\"f\",\"p\"]\n",
    "        printpanel(secret,letters)\n",
    "        \n",
    "        f_i__d__ip"
   ]
  },
  {
   "cell_type": "code",
   "execution_count": 9,
   "metadata": {},
   "outputs": [],
   "source": [
    "import sys\n",
    "def print_panel(secret,letters):\n",
    "    sys.stdout.write(\"\\033[1;34m\")\n",
    "    for i in range(len(secret)):\n",
    "        letter = secret[i]\n",
    "        if letter in letters:\n",
    "            print(letter, end='')\n",
    "        else:\n",
    "            print('_', end='')\n",
    "    sys.stdout.write(\"\\033[0;0m\")\n",
    "    print()"
   ]
  },
  {
   "cell_type": "markdown",
   "metadata": {},
   "source": [
    "## Implement a method that finds out if the word has been guessed"
   ]
  },
  {
   "cell_type": "code",
   "execution_count": 10,
   "metadata": {},
   "outputs": [],
   "source": [
    "def is_done(secret,letters):\n",
    "    done = False\n",
    "    secret_letters = list(secret)\n",
    "    \n",
    "    correct_letters = 0\n",
    "    for letter in secret_letters:\n",
    "        if letter in letters:\n",
    "            correct_letters += 1\n",
    "            \n",
    "    if correct_letters == len(secret_letters):\n",
    "        done = True\n",
    "        \n",
    "    return done"
   ]
  },
  {
   "cell_type": "markdown",
   "metadata": {},
   "source": [
    "## Implement the game with 6 errors maximum"
   ]
  },
  {
   "cell_type": "code",
   "execution_count": 11,
   "metadata": {},
   "outputs": [
    {
     "name": "stdout",
     "output_type": "stream",
     "text": [
      "Tienes 6 intentos.\n",
      "Por favor introduce una letra: a\n",
      "\u001b[1;34m_____\u001b[0;0m\n",
      "Tienes 5 intentos.\n",
      "Por favor introduce una letra: e\n",
      "\u001b[1;34m____e\u001b[0;0m\n",
      "Tienes 5 intentos.\n",
      "Por favor introduce una letra: i\n",
      "\u001b[1;34m_i__e\u001b[0;0m\n",
      "Tienes 5 intentos.\n",
      "Por favor introduce una letra: p\n",
      "\u001b[1;34m_i__e\u001b[0;0m\n",
      "Tienes 4 intentos.\n",
      "Por favor introduce una letra: m\n",
      "\u001b[1;34m_i__e\u001b[0;0m\n",
      "Tienes 3 intentos.\n",
      "Por favor introduce una letra: n\n",
      "\u001b[1;34m_i__e\u001b[0;0m\n",
      "Tienes 2 intentos.\n",
      "Por favor introduce una letra: r\n",
      "\u001b[1;34m_i__e\u001b[0;0m\n",
      "Tienes 1 intentos.\n",
      "Por favor introduce una letra: t\n",
      "\u001b[1;34mti__e\u001b[0;0m\n",
      "Tienes 1 intentos.\n",
      "Por favor introduce una letra: o\n",
      "Ha perdido, lo siento. La palabra era: tique\n"
     ]
    }
   ],
   "source": [
    "tries = 6\n",
    "letters = []\n",
    "\n",
    "def get_letter():\n",
    "    letter = None\n",
    "    while True:\n",
    "        p_letter = input(\"Por favor introduce una letra: \")\n",
    "        if len(p_letter) > 1:\n",
    "            print(\"Una letra, no varias.\")\n",
    "        else:\n",
    "            letter = p_letter\n",
    "            break\n",
    "            \n",
    "    return letter\n",
    "\n",
    "while True:\n",
    "    print(\"Tienes %s intentos.\" % (tries))\n",
    "    letter = get_letter()\n",
    "    \n",
    "    # Comrobar si la entrada es correct\n",
    "    if letter in list(secret):\n",
    "        if letter not in letters:\n",
    "            letters.append(letter)\n",
    "        else:\n",
    "            print(\"Esa letra ya ha sido utilizada.\")\n",
    "    else:\n",
    "        tries -= 1\n",
    "      \n",
    "    # Comprobar si el jugador se ha excedido de intentos\n",
    "    if tries == 0:\n",
    "        print(\"Ha perdido, lo siento. La palabra era: %s\" % (secret))\n",
    "        break\n",
    "    \n",
    "    # Imprimir panel y comprobar si el jugador ha ganado\n",
    "    print_panel(secret, letters)\n",
    "    done = is_done(secret, letters)\n",
    "    \n",
    "    if done:\n",
    "        print(\"Ha ganado, enhorabuena.\")\n",
    "        break"
   ]
  },
  {
   "cell_type": "code",
   "execution_count": null,
   "metadata": {},
   "outputs": [],
   "source": []
  }
 ],
 "metadata": {
  "kernelspec": {
   "display_name": "Python 3",
   "language": "python",
   "name": "python3"
  },
  "language_info": {
   "codemirror_mode": {
    "name": "ipython",
    "version": 3
   },
   "file_extension": ".py",
   "mimetype": "text/x-python",
   "name": "python",
   "nbconvert_exporter": "python",
   "pygments_lexer": "ipython3",
   "version": "3.6.7"
  }
 },
 "nbformat": 4,
 "nbformat_minor": 2
}
