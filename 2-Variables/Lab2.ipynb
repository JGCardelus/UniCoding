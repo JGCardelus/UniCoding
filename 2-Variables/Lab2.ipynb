{
 "cells": [
  {
   "cell_type": "markdown",
   "metadata": {},
   "source": [
    "<h1>Lab2: Variables, statements, expressions and operators</h1>\n",
    "<p><n>Student:</n> Jorge González Cardelús</p>\n",
    "<p><n>Group ID:</n> 1ºB </p>\n",
    "<p><n>Date</n> 16/09/2019</p>"
   ]
  },
  {
   "cell_type": "markdown",
   "metadata": {},
   "source": [
    "<h3>User input in python</h3>"
   ]
  },
  {
   "cell_type": "code",
   "execution_count": 1,
   "metadata": {},
   "outputs": [
    {
     "name": "stdout",
     "output_type": "stream",
     "text": [
      "Enter you name: Jorge\n",
      "Hi Jorge\n"
     ]
    }
   ],
   "source": [
    "name = input(\"Enter you name: \")\n",
    "print(\"Hi %s\" % (name))"
   ]
  },
  {
   "cell_type": "markdown",
   "metadata": {},
   "source": [
    "<h3>Ever or odd</h3>"
   ]
  },
  {
   "cell_type": "code",
   "execution_count": 2,
   "metadata": {},
   "outputs": [
    {
     "name": "stdout",
     "output_type": "stream",
     "text": [
      "Enter a number Jorge: 123456\n",
      "123456, great choice!\n",
      "The number was even\n"
     ]
    }
   ],
   "source": [
    "number_raw = input(\"Enter a number %s: \" % (name))\n",
    "print(\"%s, great choice!\" % (number_raw))\n",
    "\n",
    "#print(type(number_raw))\n",
    "number = int(number_raw)\n",
    "#print(type(number))\n",
    "\n",
    "if number % 2 == 0:\n",
    "    print(\"The number was even\")\n",
    "else:\n",
    "    print(\"The number was odd\")"
   ]
  },
  {
   "cell_type": "markdown",
   "metadata": {},
   "source": [
    "<h3>Calculate circle parameters</h3>\n",
    "<h4>Circle's perimeter</h4>\n",
    "<p> $$P = 2*\\pi*r $$</p>\n",
    "<h4>Circle's area</h4>\n",
    "<p> $$A = {r}^2 * \\pi$$ </p>"
   ]
  },
  {
   "cell_type": "code",
   "execution_count": 3,
   "metadata": {},
   "outputs": [
    {
     "name": "stdout",
     "output_type": "stream",
     "text": [
      "Enter radius of circle: 12\n",
      "Perimeter: 75.39822368615503 // Area: 452.3893421169302\n"
     ]
    }
   ],
   "source": [
    "import numpy as np\n",
    "\n",
    "def c_perimeter(r):\n",
    "    return (2.0 * np.pi * r)\n",
    "\n",
    "def c_area(r):\n",
    "    return (np.power(r, 2.0) * np.pi)\n",
    "\n",
    "r = float(input(\"Enter radius of circle: \"))\n",
    "pmtr = c_perimeter(r)\n",
    "area = c_area(r)\n",
    "\n",
    "print(\"Perimeter: %s // Area: %s\" % (pmtr,area))"
   ]
  },
  {
   "cell_type": "markdown",
   "metadata": {},
   "source": [
    "<h3>Print circle with parameters</h3>\n",
    "<p>We will plot a circle with its equation: </p>\n",
    "<p> $$x^2 + y^2 = radius^2$$ </p>"
   ]
  },
  {
   "cell_type": "code",
   "execution_count": 4,
   "metadata": {},
   "outputs": [
    {
     "data": {
      "image/png": "[encoded data removed]",
      "text/plain": [
       "<Figure size 432x288 with 1 Axes>"
      ]
     },
     "metadata": {
      "needs_background": "light"
     },
     "output_type": "display_data"
    }
   ],
   "source": [
    "#For this exercise we will reuse the value from radius in the cell above\n",
    "import matplotlib.pyplot as plt\n",
    "%matplotlib inline\n",
    "\n",
    "x = np.linspace(-r, r, 100)\n",
    "y_a = np.sqrt(np.power(r, 2) - np.power(x, 2))\n",
    "y_b = -1 * np.sqrt(np.power(r, 2) - np.power(x, 2))\n",
    "\n",
    "plt.stem(x, y_a, use_line_collection=True)\n",
    "plt.stem(x, y_b, use_line_collection=True)\n",
    "plt.title(\"Circle with area: {0:.2f} and perimeter {1:8.2f}\".format(pmtr, area))\n",
    "plt.show()"
   ]
  },
  {
   "cell_type": "markdown",
   "metadata": {},
   "source": [
    "<h3>Get the standard deviation</h3>\n",
    "<p>We will ask the user for values and compute the standard deviation as</p>\n",
    "<p> $$ \\sigma = \\sqrt{\\frac{1}{N} \\sum_{i = 1}^{N} {(x_{i} - \\mu)}^2 }$$</p>\n",
    "<p>Where $N$ is the number of values, $x_{i}$ are every single value provided by the user and $\\mu$ is the average off all values</p>"
   ]
  },
  {
   "cell_type": "code",
   "execution_count": 5,
   "metadata": {},
   "outputs": [
    {
     "name": "stdout",
     "output_type": "stream",
     "text": [
      "Number of inputs: 5\n",
      "  · Value 0: 5\n",
      "  · Value 1: 4\n",
      "  · Value 2: 7\n",
      "  · Value 3: 8\n",
      "  · Value 4: 4\n",
      "Correct\n",
      "1.624807680927192\n"
     ]
    }
   ],
   "source": [
    "N = int(input(\"Number of inputs: \"))\n",
    "x_dev = []\n",
    "x_avg = 0\n",
    "\n",
    "for i in range(N):\n",
    "    x_i = float(input(\"  · Value %s: \" % (i)))\n",
    "    x_avg += x_i #Add all values of x_i to later calculate average\n",
    "    x_dev.append(x_i)\n",
    "\n",
    "x_avg = x_avg / N #Calculate average sum of x_dev / number of instances\n",
    "x_dev = np.array(x_dev) #Transform into np array for improved efficiency\n",
    "\n",
    "std_dev = np.sqrt((1/N) * np.sum(np.power((x_dev - x_avg), 2))) #Std dev calculus\n",
    "std_dev_np = np.std(x_dev)\n",
    "\n",
    "if std_dev == std_dev_np:\n",
    "    print(\"Correct\")\n",
    "    print(std_dev)"
   ]
  },
  {
   "cell_type": "code",
   "execution_count": null,
   "metadata": {},
   "outputs": [],
   "source": []
  }
 ],
 "metadata": {
  "kernelspec": {
   "display_name": "Python 3",
   "language": "python",
   "name": "python3"
  },
  "language_info": {
   "codemirror_mode": {
    "name": "ipython",
    "version": 3
   },
   "file_extension": ".py",
   "mimetype": "text/x-python",
   "name": "python",
   "nbconvert_exporter": "python",
   "pygments_lexer": "ipython3",
   "version": "3.7.4"
  }
 },
 "nbformat": 4,
 "nbformat_minor": 2
}
