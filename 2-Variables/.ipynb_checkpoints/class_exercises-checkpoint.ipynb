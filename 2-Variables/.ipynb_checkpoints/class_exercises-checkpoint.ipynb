{
 "cells": [
  {
   "cell_type": "markdown",
   "metadata": {},
   "source": [
    "<h2>Print certain number of decimals</h2>\n",
    "<p>Use %.nf being n the number of decimals</p>"
   ]
  },
  {
   "cell_type": "code",
   "execution_count": 1,
   "metadata": {},
   "outputs": [
    {
     "name": "stdout",
     "output_type": "stream",
     "text": [
      "The volume of a sphere with radius 12.34 is 7871.08\n"
     ]
    }
   ],
   "source": [
    "import numpy as np\n",
    "\n",
    "radius = 12.34\n",
    "volume = (4/3)*(np.pi*(radius**3))\n",
    "print(\"The volume of a sphere with radius %.2f is %.2f\" % (radius,volume))"
   ]
  },
  {
   "cell_type": "code",
   "execution_count": null,
   "metadata": {},
   "outputs": [],
   "source": [
    "import math\n",
    "import numpy as np\n",
    "import matplotlib.pyplot as plt\n",
    "\n",
    "G=6.673*np.power(10.0,-11)\n",
    "R=6371000               # earth radius in m\n",
    "r=np.logspace(0,8,100)   # distance in m\n",
    "M=5.972*np.power(10.0,24) # mass in kg\n",
    "m = 1000                # satellite mass in kg\n",
    "f=G*M*m/np.power(R+r,2)\n",
    "\n"
   ]
  }
 ],
 "metadata": {
  "kernelspec": {
   "display_name": "Python 3",
   "language": "python",
   "name": "python3"
  },
  "language_info": {
   "codemirror_mode": {
    "name": "ipython",
    "version": 3
   },
   "file_extension": ".py",
   "mimetype": "text/x-python",
   "name": "python",
   "nbconvert_exporter": "python",
   "pygments_lexer": "ipython3",
   "version": "3.7.4"
  }
 },
 "nbformat": 4,
 "nbformat_minor": 2
}
