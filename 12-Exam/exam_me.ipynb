{
 "cells": [
  {
   "cell_type": "markdown",
   "metadata": {},
   "source": [
    "# Examen Final\n",
    "# Fundamentos de la Informática\n",
    "# 13-Diciembre-2019\n",
    "\n",
    "# Tiempo: 2h15"
   ]
  },
  {
   "cell_type": "markdown",
   "metadata": {},
   "source": [
    "## *Rellena la siguiente información*:\n",
    "\n",
    "### Nombre completo: Jorge González Cardelús\n",
    "### Grupo: 1º - GITT"
   ]
  },
  {
   "cell_type": "markdown",
   "metadata": {},
   "source": [
    "**NOTA. Al terminar, el estudiante debe subir el notebook en formato PDF y en formato IPYNB al Moodle en este orden (a la sección con nombre \"EXAMEN 13/12/2019\").**  \n",
    "**Para convertir el notebook a formato PDF pulsar Ctrl+P y seleccionar \"Salvar a PDF\" en el desplegable de selección de impresoras**"
   ]
  },
  {
   "cell_type": "markdown",
   "metadata": {},
   "source": [
    "## Ej1. Lectura de ficheros (2 ptos.)\n",
    "\n",
    "Junto al enunciado se han distribuido dos ficheros \"Meses.txt\" y \"Descuentos.txt\". \"Meses.txt\" contiene los diferentes meses del año y un identificador de descuento para cada uno. \"Descuentos.txt\" contiene el importe exacto de cada descuento.\n",
    "\n",
    "Se pide:\n",
    "\n",
    "1. Leer el fichero \"Meses.txt\" y generar un diccionario llamado \"dic_month\" en el que las claves sean los nombres de los meses y los valores el identificador del descuento:\n",
    "\n",
    "        {'Enero': 'd1',\n",
    "         'Febrero': 'd3',....}\n",
    "\n",
    "2. Leer el fichero \"Descuentos.txt\" y generar un diccionario llamado \"dic_discount\" en el que las claves sean los identificadores de descuento y el valor sea el valor numérico de dicho descuento:\n",
    "\n",
    "        {'d0': 0.0, \n",
    "         'd1': 10.0,....}\n"
   ]
  },
  {
   "cell_type": "markdown",
   "metadata": {},
   "source": [
    "### Solución:"
   ]
  },
  {
   "cell_type": "code",
   "execution_count": 1,
   "metadata": {},
   "outputs": [
    {
     "name": "stdout",
     "output_type": "stream",
     "text": [
      "{'Enero': 'd1', 'Febrero': 'd3', 'Marzo': 'd0', 'Abril': 'd2', 'Mayo': 'd1', 'Junio': 'd3', 'Julio': 'd0', 'Agosto': 'd2', 'Septiembre': 'd3', 'Octubre': 'd4', 'Noviembre': 'd5', 'Diciembre': 'd2'}\n",
      "{'d0': 0.0, 'd1': 10.0, 'd2': 20.0, 'd3': 25.0, 'd4': 15.0, 'd5': 12.0}\n"
     ]
    }
   ],
   "source": [
    "dic_month = {}\n",
    "\n",
    "with open('Meses.txt', 'r') as f:\n",
    "    lines = f.readlines()\n",
    "    for i in range(1, len(lines)):\n",
    "        parts = lines[i].split(';')\n",
    "        dic_month[parts[1]] = parts[2].rstrip()\n",
    "        \n",
    "dic_discount = {}\n",
    "\n",
    "with open('Descuentos.txt', 'r') as f:\n",
    "    lines = f.readlines()\n",
    "    for i in range(1, len(lines)):\n",
    "        parts = lines[i].split('^')\n",
    "        dic_discount[parts[0]] = float(parts[2].rstrip())\n",
    "        \n",
    "print(dic_month)\n",
    "print(dic_discount)"
   ]
  },
  {
   "cell_type": "markdown",
   "metadata": {},
   "source": [
    "## Ej2. Combinar diccionarios (2 ptos.)\n",
    "\n",
    "Utilizar los diccionarios generados en el apartado anterior (si no se ha conseguido, definirlos a mano) para construir un nuevo diccionario llamado \"dic_final\" en el que las claves sean el nombre de los meses del año y el valor sea una tupla en el que el primer elemento sea el identificador del descuento y el segundo elemento sea el importe exacto de cada descuento:\n",
    "\n",
    "        {'Enero': (\"d1\", 10.0),\n",
    "         'Febrero': (\"d3\", 25.0) ,....}"
   ]
  },
  {
   "cell_type": "markdown",
   "metadata": {},
   "source": [
    "### Solución:"
   ]
  },
  {
   "cell_type": "code",
   "execution_count": 2,
   "metadata": {},
   "outputs": [
    {
     "name": "stdout",
     "output_type": "stream",
     "text": [
      "{'Enero': ('d1', 10.0), 'Febrero': ('d3', 25.0), 'Marzo': ('d0', 0.0), 'Abril': ('d2', 20.0), 'Mayo': ('d1', 10.0), 'Junio': ('d3', 25.0), 'Julio': ('d0', 0.0), 'Agosto': ('d2', 20.0), 'Septiembre': ('d3', 25.0), 'Octubre': ('d4', 15.0), 'Noviembre': ('d5', 12.0), 'Diciembre': ('d2', 20.0)}\n"
     ]
    }
   ],
   "source": [
    "dic_final = {}\n",
    "\n",
    "for month in dic_month.keys():\n",
    "    discount_id = dic_month[month]\n",
    "    discount_val = dic_discount[discount_id]\n",
    "    \n",
    "    dic_final[month] = (discount_id, discount_val)\n",
    "    \n",
    "print(dic_final)"
   ]
  },
  {
   "cell_type": "markdown",
   "metadata": {},
   "source": [
    "## Ej3. Salvar a fichero (1 pto.)\n",
    "\n",
    "Utilizar el diccionario generado en el apartado anterior (si no se ha conseguido, definirlo a mano), para salvar su información en un fichero de tipo CSV llamado \"Mes-Descuentos.csv\", cuya primera línea debe incluir una cabecera con los nombres \"mes\",\"id_descuento\",\"valor\". Y el separador debe ser el caracter \"|\":\n",
    "\n",
    "        mes|id_descuento|valor\n",
    "        Enero|d1|10.0\n",
    "        Febrero|d3|25.0"
   ]
  },
  {
   "cell_type": "markdown",
   "metadata": {},
   "source": [
    "### Solución:"
   ]
  },
  {
   "cell_type": "code",
   "execution_count": 3,
   "metadata": {},
   "outputs": [
    {
     "data": {
      "text/html": [
       "<div>\n",
       "<style scoped>\n",
       "    .dataframe tbody tr th:only-of-type {\n",
       "        vertical-align: middle;\n",
       "    }\n",
       "\n",
       "    .dataframe tbody tr th {\n",
       "        vertical-align: top;\n",
       "    }\n",
       "\n",
       "    .dataframe thead th {\n",
       "        text-align: right;\n",
       "    }\n",
       "</style>\n",
       "<table border=\"1\" class=\"dataframe\">\n",
       "  <thead>\n",
       "    <tr style=\"text-align: right;\">\n",
       "      <th></th>\n",
       "      <th>mes</th>\n",
       "      <th>id_descuento</th>\n",
       "      <th>valor</th>\n",
       "    </tr>\n",
       "  </thead>\n",
       "  <tbody>\n",
       "    <tr>\n",
       "      <th>0</th>\n",
       "      <td>Enero</td>\n",
       "      <td>d1</td>\n",
       "      <td>10.0</td>\n",
       "    </tr>\n",
       "    <tr>\n",
       "      <th>1</th>\n",
       "      <td>Febrero</td>\n",
       "      <td>d3</td>\n",
       "      <td>25.0</td>\n",
       "    </tr>\n",
       "    <tr>\n",
       "      <th>2</th>\n",
       "      <td>Marzo</td>\n",
       "      <td>d0</td>\n",
       "      <td>0.0</td>\n",
       "    </tr>\n",
       "    <tr>\n",
       "      <th>3</th>\n",
       "      <td>Abril</td>\n",
       "      <td>d2</td>\n",
       "      <td>20.0</td>\n",
       "    </tr>\n",
       "    <tr>\n",
       "      <th>4</th>\n",
       "      <td>Mayo</td>\n",
       "      <td>d1</td>\n",
       "      <td>10.0</td>\n",
       "    </tr>\n",
       "    <tr>\n",
       "      <th>5</th>\n",
       "      <td>Junio</td>\n",
       "      <td>d3</td>\n",
       "      <td>25.0</td>\n",
       "    </tr>\n",
       "    <tr>\n",
       "      <th>6</th>\n",
       "      <td>Julio</td>\n",
       "      <td>d0</td>\n",
       "      <td>0.0</td>\n",
       "    </tr>\n",
       "    <tr>\n",
       "      <th>7</th>\n",
       "      <td>Agosto</td>\n",
       "      <td>d2</td>\n",
       "      <td>20.0</td>\n",
       "    </tr>\n",
       "    <tr>\n",
       "      <th>8</th>\n",
       "      <td>Septiembre</td>\n",
       "      <td>d3</td>\n",
       "      <td>25.0</td>\n",
       "    </tr>\n",
       "    <tr>\n",
       "      <th>9</th>\n",
       "      <td>Octubre</td>\n",
       "      <td>d4</td>\n",
       "      <td>15.0</td>\n",
       "    </tr>\n",
       "    <tr>\n",
       "      <th>10</th>\n",
       "      <td>Noviembre</td>\n",
       "      <td>d5</td>\n",
       "      <td>12.0</td>\n",
       "    </tr>\n",
       "    <tr>\n",
       "      <th>11</th>\n",
       "      <td>Diciembre</td>\n",
       "      <td>d2</td>\n",
       "      <td>20.0</td>\n",
       "    </tr>\n",
       "  </tbody>\n",
       "</table>\n",
       "</div>"
      ],
      "text/plain": [
       "           mes id_descuento  valor\n",
       "0        Enero           d1   10.0\n",
       "1      Febrero           d3   25.0\n",
       "2        Marzo           d0    0.0\n",
       "3        Abril           d2   20.0\n",
       "4         Mayo           d1   10.0\n",
       "5        Junio           d3   25.0\n",
       "6        Julio           d0    0.0\n",
       "7       Agosto           d2   20.0\n",
       "8   Septiembre           d3   25.0\n",
       "9      Octubre           d4   15.0\n",
       "10   Noviembre           d5   12.0\n",
       "11   Diciembre           d2   20.0"
      ]
     },
     "execution_count": 3,
     "metadata": {},
     "output_type": "execute_result"
    }
   ],
   "source": [
    "with open('Mes-Descuentos.csv', 'w+') as f:\n",
    "    header = 'mes|id_descuento|valor\\n'\n",
    "    f.writelines(header)\n",
    "    \n",
    "    for month in dic_final.keys():\n",
    "        month_parts = dic_final[month]\n",
    "        discount_id = month_parts[0]\n",
    "        discount_val = month_parts[1]\n",
    "        \n",
    "        month_line = month + '|' + discount_id + '|' + str(discount_val) + '\\n'\n",
    "        f.writelines(month_line)\n",
    "        \n",
    "# Comprobación\n",
    "import pandas as pd\n",
    "df = pd.read_csv('Mes-Descuentos.csv', sep='|')\n",
    "df.head(12)"
   ]
  },
  {
   "cell_type": "markdown",
   "metadata": {},
   "source": [
    "## Ej4. Genera cualquier polinomio (2 ptos.)\n",
    "\n",
    "Preguntar al usuario por el grado del polinomio que quiere pintar. A continuacion, el código debe preguntar al usuario por tantos coeficientes como grado tenga el polinomio. El código debe funcionar para cualquier grado (no es necesario chequear si el usuario introduce grados negativos, letras o símbolos). Al final, el código debe imprimir la función solicitada por el usuario:\n",
    "\n",
    "\n",
    "        Introduzca el grado del polinomio: 3\n",
    "          - Introduzca el coeficiente grado 0:0\n",
    "          - Introduzca el coeficiente grado 1:1\n",
    "          - Introduzca el coeficiente grado 2:2\n",
    "          - Introduzca el coeficiente grado 3:3\n",
    "        El polinomio solicitado es: \n",
    "        f(x)=3x^3+2x^2+1x^1+0"
   ]
  },
  {
   "cell_type": "markdown",
   "metadata": {},
   "source": [
    "### Solución:"
   ]
  },
  {
   "cell_type": "code",
   "execution_count": 4,
   "metadata": {},
   "outputs": [
    {
     "name": "stdout",
     "output_type": "stream",
     "text": [
      "Por favor, introduzca el grado del polinomio: 5\n",
      "  - Introduza el coef. del grado 0: -1\n",
      "  - Introduza el coef. del grado 1: 2\n",
      "  - Introduza el coef. del grado 2: -3\n",
      "  - Introduza el coef. del grado 3: 4\n",
      "  - Introduza el coef. del grado 4: -5\n",
      "\n",
      "El polinomio solicitado es\n",
      "f(x) = -5x^4 +4x^3 -3x^2 +2x^1 -1\n"
     ]
    }
   ],
   "source": [
    "def num_request(request):\n",
    "    num = 0\n",
    "    while True:\n",
    "        try:\n",
    "            num = int(input(request))\n",
    "            break\n",
    "        except ValueError:\n",
    "            print(\"Por favor introduzca un número\")\n",
    "    \n",
    "    return num\n",
    "\n",
    "grado = num_request(\"Por favor, introduzca el grado del polinomio: \")\n",
    "coefs = []\n",
    "for i in range(grado):\n",
    "    coef = num_request('  - Introduza el coef. del grado %s: ' % (str(i)))\n",
    "    coefs.append(coef)\n",
    "\n",
    "def print_polynomio(coefs):\n",
    "    print('f(x) = ', end='')\n",
    "    for i in reversed(range(len(coefs))):\n",
    "        coef = coefs[i]\n",
    "\n",
    "        if coef < 0:\n",
    "            print('%s' % (str(coef)), end='')\n",
    "        else:\n",
    "            print('+%s' % (str(coef)), end='')\n",
    "\n",
    "        if i > 0:\n",
    "            print('x^%s ' % (str(i)), end='')\n",
    "    print()\n",
    "\n",
    "\n",
    "print()\n",
    "print(\"El polinomio solicitado es\")\n",
    "print_polynomio(coefs)"
   ]
  },
  {
   "cell_type": "markdown",
   "metadata": {},
   "source": [
    "## Ej5. Calcula el polinomio (2 ptos.)\n",
    "\n",
    "Construye una función que responda a esta difinición:\n",
    "\n",
    "        def apply_polynomio(ejex,coeficientes):\n",
    "            ...\n",
    "            ...\n",
    "        return ejey\n",
    "        \n",
    "Dónde la variable \"ejex\" reciba una lista de valores para la variable X y la variable \"coeficientes\" reciba la lista de coeficientes seleccionados por el usuario (no es necesario haber realizado el apartado anterior para hacer este ejercicio).\n",
    "La variable devuelta \"ejey\" debe ser una lista de valores resultado de aplicar el polinomio definido por los coeficientes a cada uno de los valores de la lista \"ejex\".\n",
    "\n",
    "        ejex=[0,1,2,3]\n",
    "        coeficientes=[1,2,3,4]\n",
    "        ejey=apply_polynomio(ejex,coeficientes)\n",
    "        print(ejey)\n",
    "        [1, 10, 49, 142]"
   ]
  },
  {
   "cell_type": "markdown",
   "metadata": {},
   "source": [
    "### Solución:"
   ]
  },
  {
   "cell_type": "code",
   "execution_count": 5,
   "metadata": {},
   "outputs": [
    {
     "name": "stdout",
     "output_type": "stream",
     "text": [
      "[0, 1, 2, 3]\n",
      "f(x) = +4x^3 +3x^2 +2x^1 +1\n",
      "[1, 10, 49, 142]\n"
     ]
    }
   ],
   "source": [
    "def calc_image(x, coefs):\n",
    "    y = 0\n",
    "    for i in reversed(range(len(coefs))):\n",
    "        coef = coefs[i]\n",
    "        y += coef * (x ** i)\n",
    "        \n",
    "    return y\n",
    "\n",
    "def apply_polynomio(ejex, coefs):\n",
    "    ejey = []\n",
    "    for x in ejex:\n",
    "        ejey.append(calc_image(x, coefs))\n",
    "        \n",
    "    return ejey\n",
    "\n",
    "ejex = [0,1,2,3]\n",
    "print(ejex)\n",
    "coefs = [1,2,3,4]\n",
    "print_polynomio(coefs)\n",
    "ejey = apply_polynomio(ejex, coefs)\n",
    "print(ejey)"
   ]
  },
  {
   "cell_type": "markdown",
   "metadata": {},
   "source": [
    "## Ej6. Visualiza el polinomio (1 pto.)"
   ]
  },
  {
   "cell_type": "markdown",
   "metadata": {},
   "source": [
    "Construye una función con la siguiente definición:\n",
    "    \n",
    "    def plot_polynomio(ejex,ejey,kind):\n",
    "\n",
    "Que visualice la función descrita por las listas de valores \"ejex\" y \"ejey\". El tipo de gráfico utilizado dependerá del parámetro \"kind\" que puede tomar los siguientes valores:\n",
    "\n",
    "    kind=\"line\"\n",
    "    kind=\"scatter\"\n",
    "    kind=\"bar\"\n",
    "    \n",
    "Cuando la variable \"kind\" tome el valor \"line\" imprimirá el polinomio con una línea contínua negra utilizando cruces para las marcas.  \n",
    "Cuando la variable \"kind\" tome el valor \"scatter\" imprimirá el polinomio como una sucesión de puntos con forma circular de color rojo.  \n",
    "Cuando la variable \"kind\" tome el valor \"bar\" imprimirá el polinomio como un diagrama de barras verticales de color magenta.  \n",
    "Cuando la variable \"kind\" no reciba ningún valor por parte del usuario, por defecto, tomará el valor \"line\".  \n",
    "Cuando la variable \"kind\" reciba un valor no reconocible, por defecto, tomará el valor \"line\""
   ]
  },
  {
   "cell_type": "code",
   "execution_count": 6,
   "metadata": {},
   "outputs": [
    {
     "data": {
      "text/plain": [
       "<Figure size 640x480 with 1 Axes>"
      ]
     },
     "metadata": {},
     "output_type": "display_data"
    }
   ],
   "source": [
    "import matplotlib.pyplot as plt\n",
    "\n",
    "def plot_polynomio(ejex, ejey, kind=\"line\"):\n",
    "    allowed_kinds = [\"line\", \"scatter\", \"bar\"]\n",
    "    \n",
    "    if kind not in allowed_kinds:\n",
    "        kind = \"line\"\n",
    "        \n",
    "    if kind == \"line\":\n",
    "        plt.plot(ejex, ejey, color='black', linestyle='-', marker='+')\n",
    "    elif kind == \"scatter\":\n",
    "        plt.scatter(ejex, ejey, color='red', marker='o')\n",
    "    elif kind == \"bar\":\n",
    "        plt.bar(ejex, ejey, color='magenta')\n",
    "        \n",
    "    plt.show()\n",
    "\n",
    "plot_polynomio([0,1,2,3],[1, 10, 49, 142])"
   ]
  },
  {
   "cell_type": "code",
   "execution_count": 7,
   "metadata": {},
   "outputs": [
    {
     "data": {
      "image/png": "[encoded data removed]",
      "text/plain": [
       "<Figure size 432x288 with 1 Axes>"
      ]
     },
     "metadata": {},
     "output_type": "display_data"
    }
   ],
   "source": [
    "plot_polynomio([0,1,2,3],[1, 10, 49, 142],kind=\"cualquiercosa\")"
   ]
  },
  {
   "cell_type": "code",
   "execution_count": 8,
   "metadata": {},
   "outputs": [
    {
     "data": {
      "image/png": "[encoded data removed]",
      "text/plain": [
       "<Figure size 432x288 with 1 Axes>"
      ]
     },
     "metadata": {},
     "output_type": "display_data"
    }
   ],
   "source": [
    "plot_polynomio([0,1,2,3],[1, 10, 49, 142],\"scatter\")"
   ]
  },
  {
   "cell_type": "code",
   "execution_count": 9,
   "metadata": {},
   "outputs": [
    {
     "data": {
      "image/png": "[encoded data removed]",
      "text/plain": [
       "<Figure size 432x288 with 1 Axes>"
      ]
     },
     "metadata": {},
     "output_type": "display_data"
    }
   ],
   "source": [
    "plot_polynomio([0,1,2,3],[1, 10, 49, 142],\"bar\")"
   ]
  },
  {
   "cell_type": "markdown",
   "metadata": {},
   "source": [
    "### Solución:"
   ]
  },
  {
   "cell_type": "code",
   "execution_count": null,
   "metadata": {},
   "outputs": [],
   "source": []
  },
  {
   "cell_type": "code",
   "execution_count": null,
   "metadata": {},
   "outputs": [],
   "source": []
  }
 ],
 "metadata": {
  "kernelspec": {
   "display_name": "Python 3",
   "language": "python",
   "name": "python3"
  },
  "language_info": {
   "codemirror_mode": {
    "name": "ipython",
    "version": 3
   },
   "file_extension": ".py",
   "mimetype": "text/x-python",
   "name": "python",
   "nbconvert_exporter": "python",
   "pygments_lexer": "ipython3",
   "version": "3.6.5"
  }
 },
 "nbformat": 4,
 "nbformat_minor": 2
}
